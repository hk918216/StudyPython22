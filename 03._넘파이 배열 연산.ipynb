{
 "cells": [
  {
   "cell_type": "markdown",
   "id": "f728f44b",
   "metadata": {},
   "source": [
    "# 산술연산"
   ]
  },
  {
   "cell_type": "code",
   "execution_count": 1,
   "id": "a2f0cfb9",
   "metadata": {},
   "outputs": [],
   "source": [
    "import numpy as np"
   ]
  },
  {
   "cell_type": "code",
   "execution_count": 3,
   "id": "992be2f6",
   "metadata": {},
   "outputs": [
    {
     "name": "stdout",
     "output_type": "stream",
     "text": [
      "[1, 2, 3, 4, 5, 6]\n"
     ]
    }
   ],
   "source": [
    "# 리스트 덧셈\n",
    "list1 = [1,2,3]\n",
    "list2 = [4,5,6]\n",
    "print(list1+list2)"
   ]
  },
  {
   "cell_type": "code",
   "execution_count": 4,
   "id": "1618a982",
   "metadata": {},
   "outputs": [
    {
     "name": "stdout",
     "output_type": "stream",
     "text": [
      "[5 7 9]\n"
     ]
    }
   ],
   "source": [
    "arr1 = np.array([1,2,3])\n",
    "arr2 = np.array([4,5,6])\n",
    "print(arr1+ arr2)"
   ]
  },
  {
   "cell_type": "code",
   "execution_count": 6,
   "id": "702b707c",
   "metadata": {},
   "outputs": [
    {
     "name": "stdout",
     "output_type": "stream",
     "text": [
      "[[12. 14. 16.]\n",
      " [18. 20. 22.]]\n",
      "[[10. 10. 10.]\n",
      " [10. 10. 10.]]\n"
     ]
    }
   ],
   "source": [
    "arr1= np.arange(1,7,dtype=np.float32).reshape(2,3)\n",
    "arr2= np.arange(11,17,dtype=np.int32).reshape(2,3)\n",
    "print(arr1+arr2)\n",
    "print(arr2-arr1)"
   ]
  },
  {
   "cell_type": "code",
   "execution_count": 10,
   "id": "ea87fa97",
   "metadata": {},
   "outputs": [
    {
     "name": "stdout",
     "output_type": "stream",
     "text": [
      "[[11. 24. 39.]\n",
      " [56. 75. 96.]]\n",
      "[[11.          6.          4.33333333]\n",
      " [ 3.5         3.          2.66666667]]\n",
      "[[1.00000000e+00 4.09600000e+03 1.59432300e+06]\n",
      " [2.68435456e+08 3.05175781e+10 2.82110991e+12]]\n"
     ]
    }
   ],
   "source": [
    "print(arr1*arr2)\n",
    "print(arr2/arr1)\n",
    "print(arr1**arr2)  #제곱"
   ]
  },
  {
   "cell_type": "code",
   "execution_count": 11,
   "id": "f348a61c",
   "metadata": {},
   "outputs": [
    {
     "name": "stdout",
     "output_type": "stream",
     "text": [
      "[[11.  6.  4.]\n",
      " [ 3.  3.  2.]]\n",
      "[[0. 0. 1.]\n",
      " [2. 0. 4.]]\n"
     ]
    }
   ],
   "source": [
    "print(arr2//arr1) #몫\n",
    "print(arr2 % arr1) #나머지"
   ]
  },
  {
   "cell_type": "code",
   "execution_count": 12,
   "id": "2f497947",
   "metadata": {},
   "outputs": [
    {
     "name": "stdout",
     "output_type": "stream",
     "text": [
      "[[12. 14. 16.]\n",
      " [18. 20. 22.]]\n"
     ]
    }
   ],
   "source": [
    "print(np.add(arr1,arr2))"
   ]
  },
  {
   "cell_type": "code",
   "execution_count": 14,
   "id": "a7e55345",
   "metadata": {},
   "outputs": [
    {
     "name": "stdout",
     "output_type": "stream",
     "text": [
      "[[-10. -10. -10.]\n",
      " [-10. -10. -10.]]\n"
     ]
    }
   ],
   "source": [
    "print(np.subtract(arr1,arr2))"
   ]
  },
  {
   "cell_type": "code",
   "execution_count": 15,
   "id": "5b8916d8",
   "metadata": {},
   "outputs": [
    {
     "name": "stdout",
     "output_type": "stream",
     "text": [
      "[[11. 24. 39.]\n",
      " [56. 75. 96.]]\n"
     ]
    }
   ],
   "source": [
    "print(np.multiply(arr1,arr2))"
   ]
  },
  {
   "cell_type": "code",
   "execution_count": 16,
   "id": "7fdd0869",
   "metadata": {},
   "outputs": [
    {
     "name": "stdout",
     "output_type": "stream",
     "text": [
      "[[11.          6.          4.33333333]\n",
      " [ 3.5         3.          2.66666667]]\n"
     ]
    }
   ],
   "source": [
    "print(np.divide(arr2,arr1))"
   ]
  },
  {
   "cell_type": "markdown",
   "id": "2bc13834",
   "metadata": {},
   "source": [
    "### Broadingcasting\n",
    "- 연산하고자 하는 배열의 모양이 다른 경우의 연산"
   ]
  },
  {
   "cell_type": "code",
   "execution_count": 18,
   "id": "89460fc7",
   "metadata": {},
   "outputs": [
    {
     "ename": "ValueError",
     "evalue": "operands could not be broadcast together with shapes (5,2) (2,5) ",
     "output_type": "error",
     "traceback": [
      "\u001b[1;31m---------------------------------------------------------------------------\u001b[0m",
      "\u001b[1;31mValueError\u001b[0m                                Traceback (most recent call last)",
      "Input \u001b[1;32mIn [18]\u001b[0m, in \u001b[0;36m<cell line: 3>\u001b[1;34m()\u001b[0m\n\u001b[0;32m      1\u001b[0m arr3 \u001b[38;5;241m=\u001b[39m np\u001b[38;5;241m.\u001b[39marange(\u001b[38;5;241m10\u001b[39m)\u001b[38;5;241m.\u001b[39mreshape(\u001b[38;5;241m5\u001b[39m,\u001b[38;5;241m2\u001b[39m)\n\u001b[0;32m      2\u001b[0m arr4 \u001b[38;5;241m=\u001b[39m np\u001b[38;5;241m.\u001b[39marange(\u001b[38;5;241m10\u001b[39m)\u001b[38;5;241m.\u001b[39mreshape(\u001b[38;5;241m2\u001b[39m,\u001b[38;5;241m5\u001b[39m)\n\u001b[1;32m----> 3\u001b[0m \u001b[38;5;28mprint\u001b[39m(\u001b[43marr3\u001b[49m\u001b[38;5;241;43m+\u001b[39;49m\u001b[43marr4\u001b[49m)\n",
      "\u001b[1;31mValueError\u001b[0m: operands could not be broadcast together with shapes (5,2) (2,5) "
     ]
    }
   ],
   "source": [
    "arr3 = np.arange(10).reshape(5,2)\n",
    "arr4 = np.arange(10).reshape(2,5)\n",
    "print(arr3+arr4)  # 불가능"
   ]
  },
  {
   "cell_type": "code",
   "execution_count": 19,
   "id": "4ce3d4f8",
   "metadata": {},
   "outputs": [
    {
     "name": "stdout",
     "output_type": "stream",
     "text": [
      "[11 12 13]\n"
     ]
    }
   ],
   "source": [
    "scalar = 10\n",
    "vector = np.array([1,2,3])\n",
    "print(scalar + vector)"
   ]
  },
  {
   "cell_type": "code",
   "execution_count": 20,
   "id": "b0102656",
   "metadata": {},
   "outputs": [
    {
     "name": "stdout",
     "output_type": "stream",
     "text": [
      "[[11 12 13]\n",
      " [14 15 16]]\n"
     ]
    }
   ],
   "source": [
    "scalar = 10\n",
    "matrix = np.array([[1,2,3],[4,5,6]])\n",
    "print(scalar + matrix)"
   ]
  },
  {
   "cell_type": "code",
   "execution_count": 25,
   "id": "b22d4fbd",
   "metadata": {},
   "outputs": [
    {
     "name": "stdout",
     "output_type": "stream",
     "text": [
      "[[12 14 16]\n",
      " [15 17 19]\n",
      " [18 20 22]]\n"
     ]
    }
   ],
   "source": [
    "# 벡터와 매트릭스의 연산\n",
    "matrix = np.arange(1,10).reshape(3,3)\n",
    "vector = np.arange(11,14).reshape(1,3)\n",
    "print(matrix+vector)"
   ]
  },
  {
   "cell_type": "code",
   "execution_count": 27,
   "id": "28089fd9",
   "metadata": {
    "scrolled": true
   },
   "outputs": [
    {
     "name": "stdout",
     "output_type": "stream",
     "text": [
      "[1 2 3]\n",
      "[[1]\n",
      " [2]\n",
      " [3]]\n"
     ]
    }
   ],
   "source": [
    "# 벡터와 벡터의 브로드캐스팅 연산\n",
    "arr1 = np.array([1,2,3])\n",
    "arr2 = np.array([1,2,3]).reshape(3,1)\n",
    "print(arr1)\n",
    "print(arr2)"
   ]
  },
  {
   "cell_type": "code",
   "execution_count": 28,
   "id": "1eeefe6b",
   "metadata": {},
   "outputs": [
    {
     "data": {
      "text/plain": [
       "<numpy.broadcast at 0x125fe2b4010>"
      ]
     },
     "execution_count": 28,
     "metadata": {},
     "output_type": "execute_result"
    }
   ],
   "source": [
    "np.broadcast(arr1,arr2)"
   ]
  },
  {
   "cell_type": "code",
   "execution_count": 29,
   "id": "02e64257",
   "metadata": {},
   "outputs": [
    {
     "data": {
      "text/plain": [
       "<numpy.broadcast at 0x125fe2b22d0>"
      ]
     },
     "execution_count": 29,
     "metadata": {},
     "output_type": "execute_result"
    }
   ],
   "source": [
    "arr3= np.array([1,2,3])\n",
    "arr4 = np.array([4,5,6])\n",
    "np.broadcast(arr3,arr4)"
   ]
  },
  {
   "cell_type": "code",
   "execution_count": 34,
   "id": "24a2a4ed",
   "metadata": {},
   "outputs": [
    {
     "name": "stdout",
     "output_type": "stream",
     "text": [
      "[1 4 9]\n",
      "14\n"
     ]
    }
   ],
   "source": [
    "arr1 = np.array([1,2,3])\n",
    "arr2 = np.array([1,2,3])\n",
    "print(arr1*arr2)\n",
    "\n",
    "# np.dot 사용\n",
    "arr1 = np.array([1,2,3])\n",
    "arr2 = np.array([1,2,3]).T\n",
    "print(np.dot(arr1,arr2))"
   ]
  },
  {
   "cell_type": "code",
   "execution_count": 35,
   "id": "e8947c43",
   "metadata": {},
   "outputs": [
    {
     "name": "stdout",
     "output_type": "stream",
     "text": [
      "14\n"
     ]
    }
   ],
   "source": [
    "print(arr1@arr2)"
   ]
  },
  {
   "cell_type": "code",
   "execution_count": 36,
   "id": "00ee4fcb",
   "metadata": {},
   "outputs": [
    {
     "name": "stdout",
     "output_type": "stream",
     "text": [
      "[[ 82  88]\n",
      " [199 214]]\n"
     ]
    }
   ],
   "source": [
    "arr3 = np.arange(1,7).reshape(2,3)\n",
    "arr4 = np.arange(11,17).reshape(3,2)\n",
    "print(np.dot(arr3,arr4))"
   ]
  }
 ],
 "metadata": {
  "kernelspec": {
   "display_name": "Python 3 (ipykernel)",
   "language": "python",
   "name": "python3"
  },
  "language_info": {
   "codemirror_mode": {
    "name": "ipython",
    "version": 3
   },
   "file_extension": ".py",
   "mimetype": "text/x-python",
   "name": "python",
   "nbconvert_exporter": "python",
   "pygments_lexer": "ipython3",
   "version": "3.9.12"
  }
 },
 "nbformat": 4,
 "nbformat_minor": 5
}
