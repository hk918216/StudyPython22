{
 "cells": [
  {
   "cell_type": "markdown",
   "id": "ac661943",
   "metadata": {},
   "source": [
    "# 파일 입출력"
   ]
  },
  {
   "cell_type": "code",
   "execution_count": 5,
   "id": "3175dc3f",
   "metadata": {},
   "outputs": [],
   "source": [
    "import numpy as np"
   ]
  },
  {
   "cell_type": "markdown",
   "id": "ceed371e",
   "metadata": {},
   "source": [
    "### 파일 처리\n",
    "- ndarray의 정보를 파일로 저장할 수 있다\n",
    "- 일반적인 파일 확장자는 npy를 사용한다"
   ]
  },
  {
   "cell_type": "code",
   "execution_count": 6,
   "id": "87aad592",
   "metadata": {
    "scrolled": false
   },
   "outputs": [
    {
     "name": "stdout",
     "output_type": "stream",
     "text": [
      "[[ 0.30322862 -1.04360132 -0.22526693  0.058809   -0.80200449]\n",
      " [-0.6375197  -2.06025825  1.37816865 -1.47746032 -0.7475615 ]\n",
      " [ 0.10744119 -0.69285122  0.72693669  0.32094776  0.32945651]]\n"
     ]
    }
   ],
   "source": [
    "# 파일 저장\n",
    "n = np.random.randn(3,5)\n",
    "print(n)\n",
    "n.tofile('n.npy')"
   ]
  },
  {
   "cell_type": "code",
   "execution_count": 7,
   "id": "fccf40d4",
   "metadata": {
    "scrolled": true
   },
   "outputs": [
    {
     "name": "stdout",
     "output_type": "stream",
     "text": [
      "[ 0.30322862 -1.04360132 -0.22526693  0.058809   -0.80200449 -0.6375197\n",
      " -2.06025825  1.37816865 -1.47746032 -0.7475615   0.10744119 -0.69285122\n",
      "  0.72693669  0.32094776  0.32945651]\n"
     ]
    }
   ],
   "source": [
    "# 파일 불러오기\n",
    "m = np.fromfile('n.npy')\n",
    "print(m)"
   ]
  },
  {
   "cell_type": "code",
   "execution_count": 8,
   "id": "a9c16eb4",
   "metadata": {},
   "outputs": [
    {
     "name": "stdout",
     "output_type": "stream",
     "text": [
      "[ 0.30322862 -1.04360132 -0.22526693  0.058809   -0.80200449 -0.6375197\n",
      " -2.06025825  1.37816865 -1.47746032 -0.7475615   0.10744119 -0.69285122\n",
      "  0.72693669  0.32094776  0.32945651]\n"
     ]
    }
   ],
   "source": [
    "m2 = np.fromfile('C:/STUDY/StudyPython22/n.npy')\n",
    "print(m2)"
   ]
  },
  {
   "cell_type": "code",
   "execution_count": 9,
   "id": "bc25c6fe",
   "metadata": {
    "scrolled": true
   },
   "outputs": [
    {
     "name": "stdout",
     "output_type": "stream",
     "text": [
      "[[ 0.30322862 -1.04360132 -0.22526693  0.058809   -0.80200449]\n",
      " [-0.6375197  -2.06025825  1.37816865 -1.47746032 -0.7475615 ]\n",
      " [ 0.10744119 -0.69285122  0.72693669  0.32094776  0.32945651]]\n"
     ]
    }
   ],
   "source": [
    "# 파일 저장, 불러오기(np.save, np.load)\n",
    "np.save('n1.npy',n)\n",
    "m1 = np.load('n1.npy')\n",
    "print(m1)"
   ]
  },
  {
   "cell_type": "code",
   "execution_count": 12,
   "id": "b86c1160",
   "metadata": {},
   "outputs": [],
   "source": [
    "# txt 파일 저장(np.savetxt)\n",
    "np.savetxt('n.txt',n)  # 저장할 파일 n"
   ]
  },
  {
   "cell_type": "code",
   "execution_count": 18,
   "id": "9eee2fc4",
   "metadata": {
    "scrolled": false
   },
   "outputs": [
    {
     "data": {
      "text/plain": [
       "array([[ 0.30322862, -1.04360132, -0.22526693,  0.058809  , -0.80200449],\n",
       "       [-0.6375197 , -2.06025825,  1.37816865, -1.47746032, -0.7475615 ],\n",
       "       [ 0.10744119, -0.69285122,  0.72693669,  0.32094776,  0.32945651]])"
      ]
     },
     "execution_count": 18,
     "metadata": {},
     "output_type": "execute_result"
    }
   ],
   "source": [
    "# txt 파일 불러오기\n",
    "np.loadtxt('n.txt')\n"
   ]
  },
  {
   "cell_type": "code",
   "execution_count": 29,
   "id": "3777d2b0",
   "metadata": {},
   "outputs": [],
   "source": [
    "# csv 파일 저장\n",
    "np.savetxt('n.csv',n)\n",
    "# np.savetxt('n.csv',n,delimiter=',') 구분자 지정"
   ]
  },
  {
   "cell_type": "code",
   "execution_count": 31,
   "id": "5d7a5d15",
   "metadata": {},
   "outputs": [
    {
     "data": {
      "text/plain": [
       "array([[ 0.30322862, -1.04360132, -0.22526693,  0.058809  , -0.80200449],\n",
       "       [-0.6375197 , -2.06025825,  1.37816865, -1.47746032, -0.7475615 ],\n",
       "       [ 0.10744119, -0.69285122,  0.72693669,  0.32094776,  0.32945651]])"
      ]
     },
     "execution_count": 31,
     "metadata": {},
     "output_type": "execute_result"
    }
   ],
   "source": [
    "# csv 파일 불러오기\n",
    "np.loadtxt('n.csv')  # 파일 저장 문장에 delimiter= 있으면 로드 안됨\n",
    "#np.loadtxt('n.csv',delimiter=',')  # 파일 저장 문장에 delimiter= 있으면 불러오는 문장에도 deli- 적어야 함.\n",
    "# dtype=원하는 자료형"
   ]
  },
  {
   "cell_type": "markdown",
   "id": "61552708",
   "metadata": {},
   "source": [
    "### 파일입출력 연습문제"
   ]
  },
  {
   "cell_type": "code",
   "execution_count": 68,
   "id": "032bc5a1",
   "metadata": {
    "scrolled": false
   },
   "outputs": [
    {
     "name": "stdout",
     "output_type": "stream",
     "text": [
      "[[ 1  2  3  4  5]\n",
      " [ 6  7  8  9 10]\n",
      " [11 12 13 14 15]\n",
      " [16 17 18 19 20]\n",
      " [21 22 23 24 25]]\n"
     ]
    }
   ],
   "source": [
    "# 문제1\n",
    "# 1~25 5x5 2차원 행렬로\n",
    "arr = np.arange(1,26,dtype=np.int8).reshape(5,5)\n",
    "print(arr)\n",
    "np.savetxt('data.csv',arr,delimiter=',')"
   ]
  },
  {
   "cell_type": "code",
   "execution_count": 70,
   "id": "61a668a7",
   "metadata": {
    "scrolled": true
   },
   "outputs": [
    {
     "data": {
      "text/plain": [
       "array([[ 1,  2,  3,  4,  5],\n",
       "       [ 6,  7,  8,  9, 10],\n",
       "       [11, 12, 13, 14, 15],\n",
       "       [16, 17, 18, 19, 20],\n",
       "       [21, 22, 23, 24, 25]])"
      ]
     },
     "execution_count": 70,
     "metadata": {},
     "output_type": "execute_result"
    }
   ],
   "source": [
    "np.loadtxt('data.csv',delimiter=',',dtype=int)"
   ]
  },
  {
   "cell_type": "code",
   "execution_count": null,
   "id": "5df074a6",
   "metadata": {},
   "outputs": [],
   "source": [
    "arr = np.savetxt('data.csv',np.arange(1,26,dtype=int8).reshape(5,5),delimiter=',')"
   ]
  },
  {
   "cell_type": "code",
   "execution_count": 65,
   "id": "c3f4ee1f",
   "metadata": {},
   "outputs": [
    {
     "name": "stdout",
     "output_type": "stream",
     "text": [
      "[['1' '15' '14' '4']\n",
      " ['12' '6' '7' '9']\n",
      " ['8' '10' '11' '5']\n",
      " ['13' '3' '2' '16']]\n"
     ]
    }
   ],
   "source": [
    "# 문제2\n",
    "arr1 = np.loadtxt('C:/STUDY/StudyPython22/data/06_data1.txt',dtype=np.str_ #dtype=str)\n",
    "print(arr1)"
   ]
  },
  {
   "cell_type": "code",
   "execution_count": 66,
   "id": "2fee2644",
   "metadata": {},
   "outputs": [
    {
     "data": {
      "text/plain": [
       "array([['1', '15', '14', '4'],\n",
       "       ['12', '6', '7', '9'],\n",
       "       ['8', '10', '11', '5'],\n",
       "       ['13', '3', '2', '16']], dtype='<U2')"
      ]
     },
     "execution_count": 66,
     "metadata": {},
     "output_type": "execute_result"
    }
   ],
   "source": [
    "np.loadtxt('C:/STUDY/StudyPython22/data/06_data1.txt',delimiter='\\t',dtype=np.str_) # delimiter='\\t' = 공백이 탭일 때"
   ]
  },
  {
   "cell_type": "code",
   "execution_count": 67,
   "id": "5d98ab49",
   "metadata": {
    "scrolled": false
   },
   "outputs": [
    {
     "name": "stdout",
     "output_type": "stream",
     "text": [
      "[[ 1 15 14  4]\n",
      " [12  6  7  9]\n",
      " [ 8 10 11  5]\n",
      " [13  3  2 16]]\n"
     ]
    }
   ],
   "source": [
    "# 문제3\n",
    "arr2 = np.loadtxt('C:/STUDY/StudyPython22/data/06_data2.txt',delimiter=',',dtype=np.int8)\n",
    "# 기존 파일 구분자가 ','라서 delimiter=',' 사용해야함\n",
    "print(arr2)"
   ]
  },
  {
   "cell_type": "markdown",
   "id": "b9c6bfd1",
   "metadata": {},
   "source": [
    "#### 파일처리 문제\n",
    "- 파일 읽어오기"
   ]
  },
  {
   "cell_type": "code",
   "execution_count": 73,
   "id": "4813a52b",
   "metadata": {
    "scrolled": true
   },
   "outputs": [
    {
     "name": "stdout",
     "output_type": "stream",
     "text": [
      "[[      1  565082     273   27177]\n",
      " [      2 2827233     444   45111]\n",
      " [      3 1144913     289   29043]\n",
      " [      4 1131034     230   22436]\n",
      " [      5  380425     391   38020]]\n"
     ]
    }
   ],
   "source": [
    "data = np.loadtxt('C:/STUDY/StudyPython22/data/ex1_지역별전기요금.csv',delimiter=',', dtype=int)\n",
    "print(data[:5,:])  #상위 5개 데이터"
   ]
  },
  {
   "cell_type": "markdown",
   "id": "d03dab2d",
   "metadata": {},
   "source": [
    "- 데이터 모양 확인\n",
    "- 중복 지역 확인"
   ]
  },
  {
   "cell_type": "code",
   "execution_count": 75,
   "id": "c79c7f72",
   "metadata": {},
   "outputs": [
    {
     "name": "stdout",
     "output_type": "stream",
     "text": [
      "(17, 4)\n",
      "[ 1  2  3  4  5  6  7  8  9 10 11 12 13 14 15 16 17]\n"
     ]
    }
   ],
   "source": [
    "# 데이터 모양 확인\n",
    "print(data.shape)\n",
    "\n",
    "# 중복 지역 확인\n",
    "print(np.unique(data[:,0]))"
   ]
  },
  {
   "cell_type": "markdown",
   "id": "24c34805",
   "metadata": {},
   "source": [
    "- 데이터 크기순 정렬(argsort)\n",
    "- fancy index"
   ]
  },
  {
   "cell_type": "code",
   "execution_count": 84,
   "id": "6f422368",
   "metadata": {
    "scrolled": false
   },
   "outputs": [
    {
     "name": "stdout",
     "output_type": "stream",
     "text": [
      "[ 9 14 10  4  6  0 16 13  5 12 11 15  7  3  2  8  1]\n",
      "[[     10   49394     580   57091]\n",
      " [     15  258605     221   22180]\n",
      " [     11  323151     353   35470]\n",
      " [      5  380425     391   38020]\n",
      " [      7  425659     344   32331]\n",
      " [      1  565082     273   27177]\n",
      " [     17  584500     268   26899]\n",
      " [     14  634696     285   28556]\n",
      " [      6  668623     364   35245]\n",
      " [     13  726699     249   25120]\n",
      " [     12  734723     398   40049]\n",
      " [     16  742285     282   27901]\n",
      " [      8  947300     366   36274]\n",
      " [      4 1131034     230   22436]\n",
      " [      3 1144913     289   29043]\n",
      " [      9 2737725     361   36569]\n",
      " [      2 2827233     444   45111]]\n"
     ]
    }
   ],
   "source": [
    "# 데이터 크기순 정렬(argsort)\n",
    "print(data[:,1].argsort())  # print(data[:,1].argsort())[::-1] 결과값 거꾸로 출력\n",
    "\n",
    "#fancy index\n",
    "print(data[data[:,1].argsort()])"
   ]
  },
  {
   "cell_type": "markdown",
   "id": "0892e711",
   "metadata": {},
   "source": [
    "- 데이터 통계"
   ]
  },
  {
   "cell_type": "code",
   "execution_count": 87,
   "id": "34dd579c",
   "metadata": {},
   "outputs": [
    {
     "name": "stdout",
     "output_type": "stream",
     "text": [
      "14882047\n"
     ]
    },
    {
     "data": {
      "text/plain": [
       "14882047"
      ]
     },
     "execution_count": 87,
     "metadata": {},
     "output_type": "execute_result"
    }
   ],
   "source": [
    "# 데이터 통계\n",
    "# 전국 대상 가구수의 합\n",
    "print(np.sum(data[:,1]))\n",
    "data[:,1].sum()"
   ]
  },
  {
   "cell_type": "code",
   "execution_count": 89,
   "id": "ff3155e2",
   "metadata": {},
   "outputs": [
    {
     "name": "stdout",
     "output_type": "stream",
     "text": [
      "335\n"
     ]
    },
    {
     "data": {
      "text/plain": [
       "335.1764705882353"
      ]
     },
     "execution_count": 89,
     "metadata": {},
     "output_type": "execute_result"
    }
   ],
   "source": [
    "# 가구당 평균 전력 사용량의 전국 평균값\n",
    "print(round(data[:,2].mean())) \n",
    "np.mean(data[:,2])  # data[:,2].mean()"
   ]
  },
  {
   "cell_type": "code",
   "execution_count": 101,
   "id": "ca112dbb",
   "metadata": {},
   "outputs": [
    {
     "name": "stdout",
     "output_type": "stream",
     "text": [
      "가구당 평균 전력 사용량 전국 평균값 :  335.18\n"
     ]
    }
   ],
   "source": [
    "# 무식하게(?) 평균구하기\n",
    "e_sum = np.sum(data[:,2])\n",
    "e_sum\n",
    "\n",
    "n_rows = data.shape[0]\n",
    "n_rows\n",
    "\n",
    "print('가구당 평균 전력 사용량 전국 평균값 : ',round(e_sum / n_rows,2))"
   ]
  },
  {
   "cell_type": "code",
   "execution_count": 104,
   "id": "81b69da4",
   "metadata": {
    "scrolled": true
   },
   "outputs": [
    {
     "name": "stdout",
     "output_type": "stream",
     "text": [
      "[[      2 2827233]\n",
      " [      5  380425]\n",
      " [      6  668623]\n",
      " [      7  425659]\n",
      " [      8  947300]\n",
      " [      9 2737725]\n",
      " [     10   49394]\n",
      " [     11  323151]\n",
      " [     12  734723]]\n"
     ]
    }
   ],
   "source": [
    "# 가구당 평균 전력 사용량이 평균 이상인 지역과 대상 가구수 추출\n",
    "avg_ = data[:,2].mean() # 가구당 평균 전력 사용량 전국 평균\n",
    "print(data[data[:,2] > avg_, 0:2])  #2번째 열에서 avg_보다 큰 열 뽑기."
   ]
  },
  {
   "cell_type": "markdown",
   "id": "0b216882",
   "metadata": {},
   "source": [
    "### 파일처리 연습문제"
   ]
  },
  {
   "cell_type": "markdown",
   "id": "8320b71f",
   "metadata": {},
   "source": [
    "#### 문제1) 위 파일을 읽어보고 상위 3개의 (발생년도, 발생건수, 구성비)의 데이터를 추출해 봅시다."
   ]
  },
  {
   "cell_type": "code",
   "execution_count": 202,
   "id": "9d5ffe2d",
   "metadata": {
    "scrolled": true
   },
   "outputs": [
    {
     "name": "stdout",
     "output_type": "stream",
     "text": [
      "[[2014.   218.     4.8]\n",
      " [2014.   872.    19. ]\n",
      " [2014.   401.     8.7]]\n"
     ]
    }
   ],
   "source": [
    "data1 = np.loadtxt('C:/STUDY/StudyPython22/data/ex2_전년대비_시도별_교통사망사고.csv',delimiter=',', dtype=float)\n",
    "print(data1[:3,[0,2,3]])"
   ]
  },
  {
   "cell_type": "markdown",
   "id": "88a13562",
   "metadata": {},
   "source": [
    "#### 문제2) 위 데이터에서 부산에서 발생한 교통사망사고 모든 현황을 추출해 봅시다."
   ]
  },
  {
   "cell_type": "code",
   "execution_count": 203,
   "id": "efcb3c60",
   "metadata": {},
   "outputs": [
    {
     "name": "stdout",
     "output_type": "stream",
     "text": [
      "[  8.  163.    3.6 -47.  -22.4]\n",
      "[2014.     8.   163.     3.6  -47.   -22.4]\n",
      "[[2014.     8.   163.     3.6  -47.   -22.4]]\n"
     ]
    }
   ],
   "source": [
    "print(data1[7,1:6])\n",
    "\n",
    "#다른 방법(부산의 위치를 알고있을때)\n",
    "print(data1[7])\n",
    "#다른 방법\n",
    "print(data1[data1[:,1] == 8])"
   ]
  },
  {
   "cell_type": "markdown",
   "id": "9c105802",
   "metadata": {},
   "source": [
    "#### 문제3) 위 데이터에서 전국 사고 발생건수의 합계와 전국 평균을 계산해 봅시다."
   ]
  },
  {
   "cell_type": "code",
   "execution_count": 204,
   "id": "6dce2654",
   "metadata": {},
   "outputs": [
    {
     "name": "stdout",
     "output_type": "stream",
     "text": [
      "4583.0\n",
      "전국 사고 발생건수의 총합 :  4583.0\n"
     ]
    }
   ],
   "source": [
    "print(np.sum(data1[:,2]))\n",
    "print('전국 사고 발생건수의 총합 : ', data1[:,2].sum())"
   ]
  },
  {
   "cell_type": "code",
   "execution_count": 205,
   "id": "1e6d7b89",
   "metadata": {},
   "outputs": [
    {
     "name": "stdout",
     "output_type": "stream",
     "text": [
      "전국 사고 발생건수의 평균 :  269.588\n"
     ]
    }
   ],
   "source": [
    "#외전 평균구하기\n",
    "print('전국 사고 발생건수의 평균 : ', round(data1[:,2].mean(),3))"
   ]
  },
  {
   "cell_type": "markdown",
   "id": "153dba52",
   "metadata": {},
   "source": [
    "#### 문제4) 위 데이터에서 교통사고 증감수가 가장 큰 지역의 모든 현황을 추출해 봅시다."
   ]
  },
  {
   "cell_type": "code",
   "execution_count": 206,
   "id": "4bc87769",
   "metadata": {},
   "outputs": [
    {
     "name": "stdout",
     "output_type": "stream",
     "text": [
      "[[2014.     6.   182.     4.    19.    11.7]]\n"
     ]
    }
   ],
   "source": [
    "max_ =  data1[:,4].max() # max(data1[:,4])\n",
    "\n",
    "print(data1[data1[:,4] == max_, 0:6]) # print(data1[data1[:,4] == max_(data1[:,4])])"
   ]
  },
  {
   "cell_type": "code",
   "execution_count": 208,
   "id": "fc3818f9",
   "metadata": {},
   "outputs": [
    {
     "name": "stdout",
     "output_type": "stream",
     "text": [
      "[2014.     6.   182.     4.    19.    11.7]\n"
     ]
    }
   ],
   "source": [
    "np.argmax(data1[:,4])\n",
    "\n",
    "print(data1[np.argmax(data1[:,4])])"
   ]
  },
  {
   "cell_type": "markdown",
   "id": "0db05a12",
   "metadata": {},
   "source": [
    "#### 문제5) 위 데이터에서 교통사고 증감률이 가장 작은 지역의 모든 현황을 추출해 봅시다."
   ]
  },
  {
   "cell_type": "code",
   "execution_count": 207,
   "id": "ba0eb5fe",
   "metadata": {},
   "outputs": [
    {
     "name": "stdout",
     "output_type": "stream",
     "text": [
      "[[2014.     8.   163.     3.6  -47.   -22.4]]\n"
     ]
    }
   ],
   "source": [
    "min_ =  data1[:,5].min()\n",
    "\n",
    "print(data1[data1[:,5] == min_, 0:6])"
   ]
  },
  {
   "cell_type": "markdown",
   "id": "c8c199d6",
   "metadata": {},
   "source": [
    "#### 문제6) 위 데이터에서 사고 발생 건수가 400건 이상인 곳의 지역과 교통사고 발생건수, 증감수, 증감률을 추출해 봅시다."
   ]
  },
  {
   "cell_type": "code",
   "execution_count": 189,
   "id": "172b489b",
   "metadata": {
    "scrolled": true
   },
   "outputs": [
    {
     "name": "stdout",
     "output_type": "stream",
     "text": [
      "[[  2 872 -45  -4]\n",
      " [  3 401 -45 -10]\n",
      " [  4 464 -41  -8]\n",
      " [ 13 400 -35  -8]]\n",
      "[[  2 872 -45  -4]\n",
      " [  3 401 -45 -10]\n",
      " [  4 464 -41  -8]\n",
      " [ 13 400 -35  -8]]\n"
     ]
    }
   ],
   "source": [
    "a= data1[data1[:,2] >= 400,]\n",
    "print(a[:,[1,2,4,5]])\n",
    "\n",
    "print(data1[data1[:,2] >= 400][:,[1,2,4,5]]) #인덱싱 따로 진행"
   ]
  }
 ],
 "metadata": {
  "kernelspec": {
   "display_name": "Python 3 (ipykernel)",
   "language": "python",
   "name": "python3"
  },
  "language_info": {
   "codemirror_mode": {
    "name": "ipython",
    "version": 3
   },
   "file_extension": ".py",
   "mimetype": "text/x-python",
   "name": "python",
   "nbconvert_exporter": "python",
   "pygments_lexer": "ipython3",
   "version": "3.9.12"
  }
 },
 "nbformat": 4,
 "nbformat_minor": 5
}
