{
 "cells": [
  {
   "cell_type": "markdown",
   "id": "ac661943",
   "metadata": {},
   "source": [
    "# 파일 입출력"
   ]
  },
  {
   "cell_type": "code",
   "execution_count": 1,
   "id": "3175dc3f",
   "metadata": {},
   "outputs": [],
   "source": [
    "import numpy as np"
   ]
  },
  {
   "cell_type": "markdown",
   "id": "ceed371e",
   "metadata": {},
   "source": [
    "### 파일 처리\n",
    "- ndarray의 정보를 파일로 저장할 수 있다\n",
    "- 일반적인 파일 확장자는 npy를 사용한다"
   ]
  },
  {
   "cell_type": "code",
   "execution_count": 5,
   "id": "87aad592",
   "metadata": {
    "scrolled": true
   },
   "outputs": [
    {
     "name": "stdout",
     "output_type": "stream",
     "text": [
      "[[ 0.64964899  0.83399456  0.37257043  0.06854129 -0.36378131]\n",
      " [ 1.10935929  0.5612545  -0.02747347 -2.49208788  0.1992881 ]\n",
      " [-0.4970017  -1.17475738 -0.68522354 -2.32770089 -1.82765734]]\n"
     ]
    }
   ],
   "source": [
    "n = np.random.randn(3,5)\n",
    "print(n)\n",
    "n.tofile('n.npy')"
   ]
  },
  {
   "cell_type": "code",
   "execution_count": 8,
   "id": "fccf40d4",
   "metadata": {
    "scrolled": true
   },
   "outputs": [
    {
     "name": "stdout",
     "output_type": "stream",
     "text": [
      "[ 0.64964899  0.83399456  0.37257043  0.06854129 -0.36378131  1.10935929\n",
      "  0.5612545  -0.02747347 -2.49208788  0.1992881  -0.4970017  -1.17475738\n",
      " -0.68522354 -2.32770089 -1.82765734]\n"
     ]
    }
   ],
   "source": [
    "# 파일 불러오기\n",
    "m = np.fromfile('n.npy')\n",
    "print(m)"
   ]
  },
  {
   "cell_type": "code",
   "execution_count": 11,
   "id": "a9c16eb4",
   "metadata": {},
   "outputs": [
    {
     "name": "stdout",
     "output_type": "stream",
     "text": [
      "[ 0.64964899  0.83399456  0.37257043  0.06854129 -0.36378131  1.10935929\n",
      "  0.5612545  -0.02747347 -2.49208788  0.1992881  -0.4970017  -1.17475738\n",
      " -0.68522354 -2.32770089 -1.82765734]\n"
     ]
    }
   ],
   "source": [
    "m2 = np.fromfile('C:/STUDY/StudyPython22/n.npy')\n",
    "print(m2)"
   ]
  },
  {
   "cell_type": "code",
   "execution_count": 12,
   "id": "bc25c6fe",
   "metadata": {},
   "outputs": [
    {
     "name": "stdout",
     "output_type": "stream",
     "text": [
      "[[ 0.64964899  0.83399456  0.37257043  0.06854129 -0.36378131]\n",
      " [ 1.10935929  0.5612545  -0.02747347 -2.49208788  0.1992881 ]\n",
      " [-0.4970017  -1.17475738 -0.68522354 -2.32770089 -1.82765734]]\n"
     ]
    }
   ],
   "source": [
    "# 파일 저장, 불러오기(np.save, np.load)\n",
    "np.save('n1.npy',n)\n",
    "m1 = np.load('n1.npy')\n",
    "print(m1)"
   ]
  }
 ],
 "metadata": {
  "kernelspec": {
   "display_name": "Python 3 (ipykernel)",
   "language": "python",
   "name": "python3"
  },
  "language_info": {
   "codemirror_mode": {
    "name": "ipython",
    "version": 3
   },
   "file_extension": ".py",
   "mimetype": "text/x-python",
   "name": "python",
   "nbconvert_exporter": "python",
   "pygments_lexer": "ipython3",
   "version": "3.9.12"
  }
 },
 "nbformat": 4,
 "nbformat_minor": 5
}
