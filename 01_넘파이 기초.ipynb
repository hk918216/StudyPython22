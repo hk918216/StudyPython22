{
 "cells": [
  {
   "cell_type": "markdown",
   "id": "c88fe111",
   "metadata": {},
   "source": [
    "# 넘파이 기초"
   ]
  },
  {
   "cell_type": "code",
   "execution_count": 6,
   "id": "8632051c",
   "metadata": {},
   "outputs": [
    {
     "data": {
      "text/plain": [
       "array(1)"
      ]
     },
     "execution_count": 6,
     "metadata": {},
     "output_type": "execute_result"
    }
   ],
   "source": [
    "import numpy as np\n",
    "\n",
    "a = np.array(1)\n",
    "a\n",
    "\n",
    "\n"
   ]
  },
  {
   "cell_type": "markdown",
   "id": "7429803b",
   "metadata": {},
   "source": [
    "### 배열 생성"
   ]
  },
  {
   "cell_type": "code",
   "execution_count": 10,
   "id": "6da45088",
   "metadata": {},
   "outputs": [
    {
     "name": "stdout",
     "output_type": "stream",
     "text": [
      "[1 2 3]\n"
     ]
    }
   ],
   "source": [
    "ndarr_1 = np.array([1,2,3])\n",
    "print(ndarr_1)  # 콤마 없이 띄어쓰기로 나타남"
   ]
  },
  {
   "cell_type": "code",
   "execution_count": 7,
   "id": "5546b1e0",
   "metadata": {},
   "outputs": [
    {
     "name": "stdout",
     "output_type": "stream",
     "text": [
      "[1. 2. 3.]\n"
     ]
    }
   ],
   "source": [
    "ndarr_2=np.array([1,2.0,3])\n",
    "print(ndarr_2)  #플롯 형식으로 출력 .0생략"
   ]
  },
  {
   "cell_type": "code",
   "execution_count": 9,
   "id": "b7a0a19e",
   "metadata": {
    "scrolled": true
   },
   "outputs": [
    {
     "name": "stdout",
     "output_type": "stream",
     "text": [
      "['1' '2.0' '3']\n"
     ]
    }
   ],
   "source": [
    "ndarr_3 = np.array([1,2.0,'3'])\n",
    "print(ndarr_3) # 문자열로 출력"
   ]
  },
  {
   "cell_type": "markdown",
   "id": "d851d8fa",
   "metadata": {},
   "source": [
    "### 배열의 정보 확인\n",
    ">  자료형 확인 속성    ndarray.dtype"
   ]
  },
  {
   "cell_type": "code",
   "execution_count": 12,
   "id": "901a840d",
   "metadata": {},
   "outputs": [
    {
     "name": "stdout",
     "output_type": "stream",
     "text": [
      "int32\n",
      "float64\n",
      "<U32\n"
     ]
    }
   ],
   "source": [
    "print(ndarr_1.dtype)\n",
    "print(ndarr_2.dtype)\n",
    "print(ndarr_3.dtype)"
   ]
  },
  {
   "cell_type": "code",
   "execution_count": 14,
   "id": "e7c248b7",
   "metadata": {},
   "outputs": [
    {
     "name": "stdout",
     "output_type": "stream",
     "text": [
      "complex128\n",
      "object\n"
     ]
    }
   ],
   "source": [
    "print(np.array(1+2j).dtype)  #복소수 출력\n",
    "print(np.array(print).dtype)"
   ]
  },
  {
   "cell_type": "markdown",
   "id": "49c4356f",
   "metadata": {},
   "source": [
    "### 자료형 지정\n",
    "> dtype 속성을 사용해 자료형 지정"
   ]
  },
  {
   "cell_type": "code",
   "execution_count": 15,
   "id": "d6ff27bc",
   "metadata": {},
   "outputs": [
    {
     "name": "stdout",
     "output_type": "stream",
     "text": [
      "int8\n"
     ]
    }
   ],
   "source": [
    "dtype1 = np.array([1,2,3], dtype=np.int8)\n",
    "print(dtype1.dtype)"
   ]
  },
  {
   "cell_type": "code",
   "execution_count": 18,
   "id": "5f499289",
   "metadata": {},
   "outputs": [
    {
     "name": "stdout",
     "output_type": "stream",
     "text": [
      "float64\n"
     ]
    },
    {
     "name": "stderr",
     "output_type": "stream",
     "text": [
      "C:\\Users\\admin\\AppData\\Local\\Temp\\ipykernel_10612\\2523159928.py:1: DeprecationWarning: `np.float` is a deprecated alias for the builtin `float`. To silence this warning, use `float` by itself. Doing this will not modify any behavior and is safe. If you specifically wanted the numpy scalar type, use `np.float64` here.\n",
      "Deprecated in NumPy 1.20; for more details and guidance: https://numpy.org/devdocs/release/1.20.0-notes.html#deprecations\n",
      "  dtype2 = np.array([1,2,3], dtype=np.float)\n"
     ]
    }
   ],
   "source": [
    "dtype2 = np.array([1,2,3], dtype=np.float)\n",
    "print(dtype2.dtype)"
   ]
  },
  {
   "cell_type": "code",
   "execution_count": 19,
   "id": "e03a70e9",
   "metadata": {},
   "outputs": [
    {
     "name": "stdout",
     "output_type": "stream",
     "text": [
      "<U1\n"
     ]
    },
    {
     "name": "stderr",
     "output_type": "stream",
     "text": [
      "C:\\Users\\admin\\AppData\\Local\\Temp\\ipykernel_10612\\216843007.py:1: DeprecationWarning: `np.str` is a deprecated alias for the builtin `str`. To silence this warning, use `str` by itself. Doing this will not modify any behavior and is safe. If you specifically wanted the numpy scalar type, use `np.str_` here.\n",
      "Deprecated in NumPy 1.20; for more details and guidance: https://numpy.org/devdocs/release/1.20.0-notes.html#deprecations\n",
      "  dtype3 = np.array([1,2,3], dtype=np.str)\n"
     ]
    }
   ],
   "source": [
    "dtype3 = np.array([1,2,3], dtype=np.str)\n",
    "print(dtype3.dtype)"
   ]
  },
  {
   "cell_type": "code",
   "execution_count": 21,
   "id": "a1ac9c56",
   "metadata": {},
   "outputs": [
    {
     "name": "stdout",
     "output_type": "stream",
     "text": [
      "[1 2 3]\n",
      "int32\n"
     ]
    },
    {
     "name": "stderr",
     "output_type": "stream",
     "text": [
      "C:\\Users\\admin\\AppData\\Local\\Temp\\ipykernel_10612\\542048979.py:1: DeprecationWarning: `np.int` is a deprecated alias for the builtin `int`. To silence this warning, use `int` by itself. Doing this will not modify any behavior and is safe. When replacing `np.int`, you may wish to use e.g. `np.int64` or `np.int32` to specify the precision. If you wish to review your current use, check the release note link for additional information.\n",
      "Deprecated in NumPy 1.20; for more details and guidance: https://numpy.org/devdocs/release/1.20.0-notes.html#deprecations\n",
      "  dtype4 = np.array([1,2.0,'3'], dtype=np.int)\n"
     ]
    }
   ],
   "source": [
    "dtype4 = np.array([1,2.0,'3'], dtype=np.int)\n",
    "print(dtype4)\n",
    "print(dtype4.dtype)"
   ]
  },
  {
   "cell_type": "code",
   "execution_count": 22,
   "id": "91424f66",
   "metadata": {},
   "outputs": [
    {
     "name": "stderr",
     "output_type": "stream",
     "text": [
      "C:\\Users\\admin\\AppData\\Local\\Temp\\ipykernel_10612\\838612793.py:1: DeprecationWarning: `np.float` is a deprecated alias for the builtin `float`. To silence this warning, use `float` by itself. Doing this will not modify any behavior and is safe. If you specifically wanted the numpy scalar type, use `np.float64` here.\n",
      "Deprecated in NumPy 1.20; for more details and guidance: https://numpy.org/devdocs/release/1.20.0-notes.html#deprecations\n",
      "  dtype5 = np.array([1,'data',print], dtype=np.float)\n"
     ]
    },
    {
     "ename": "ValueError",
     "evalue": "could not convert string to float: 'data'",
     "output_type": "error",
     "traceback": [
      "\u001b[1;31m---------------------------------------------------------------------------\u001b[0m",
      "\u001b[1;31mValueError\u001b[0m                                Traceback (most recent call last)",
      "Input \u001b[1;32mIn [22]\u001b[0m, in \u001b[0;36m<cell line: 1>\u001b[1;34m()\u001b[0m\n\u001b[1;32m----> 1\u001b[0m dtype5 \u001b[38;5;241m=\u001b[39m \u001b[43mnp\u001b[49m\u001b[38;5;241;43m.\u001b[39;49m\u001b[43marray\u001b[49m\u001b[43m(\u001b[49m\u001b[43m[\u001b[49m\u001b[38;5;241;43m1\u001b[39;49m\u001b[43m,\u001b[49m\u001b[38;5;124;43m'\u001b[39;49m\u001b[38;5;124;43mdata\u001b[39;49m\u001b[38;5;124;43m'\u001b[39;49m\u001b[43m,\u001b[49m\u001b[38;5;28;43mprint\u001b[39;49m\u001b[43m]\u001b[49m\u001b[43m,\u001b[49m\u001b[43m \u001b[49m\u001b[43mdtype\u001b[49m\u001b[38;5;241;43m=\u001b[39;49m\u001b[43mnp\u001b[49m\u001b[38;5;241;43m.\u001b[39;49m\u001b[43mfloat\u001b[49m\u001b[43m)\u001b[49m\n\u001b[0;32m      2\u001b[0m \u001b[38;5;28mprint\u001b[39m(dtype5\u001b[38;5;241m.\u001b[39mdtype)\n",
      "\u001b[1;31mValueError\u001b[0m: could not convert string to float: 'data'"
     ]
    }
   ],
   "source": [
    "dtype5 = np.array([1,'data',print], dtype=np.float)\n",
    "print(dtype5.dtype)   #ValueError"
   ]
  },
  {
   "cell_type": "markdown",
   "id": "a5475dde",
   "metadata": {},
   "source": [
    "### 배열의 정보 확인\n",
    "> 배열 크기 확인"
   ]
  },
  {
   "cell_type": "code",
   "execution_count": 23,
   "id": "b3ab04e8",
   "metadata": {},
   "outputs": [
    {
     "name": "stdout",
     "output_type": "stream",
     "text": [
      "(3,)\n"
     ]
    }
   ],
   "source": [
    "print(ndarr_1.shape)"
   ]
  },
  {
   "cell_type": "markdown",
   "id": "f6c57f1d",
   "metadata": {},
   "source": [
    "> 배열 차원 확인"
   ]
  },
  {
   "cell_type": "code",
   "execution_count": 24,
   "id": "cc3be65a",
   "metadata": {},
   "outputs": [
    {
     "name": "stdout",
     "output_type": "stream",
     "text": [
      "1\n"
     ]
    }
   ],
   "source": [
    "print(ndarr_1.ndim)"
   ]
  },
  {
   "cell_type": "markdown",
   "id": "436de103",
   "metadata": {},
   "source": [
    "### 배열 생성\n",
    "> 1차원 배열 생성"
   ]
  },
  {
   "cell_type": "code",
   "execution_count": 28,
   "id": "c11a2223",
   "metadata": {},
   "outputs": [
    {
     "name": "stdout",
     "output_type": "stream",
     "text": [
      "[1 2 3]\n",
      "(3,)\n",
      "1\n",
      "int32\n"
     ]
    }
   ],
   "source": [
    "vector = np.array([1,2,3])\n",
    "print(vector)\n",
    "print(vector.shape)\n",
    "print(vector.ndim)\n",
    "print(vector.dtype)"
   ]
  },
  {
   "cell_type": "markdown",
   "id": "76d3a290",
   "metadata": {},
   "source": [
    "> 2차원 배열 생성"
   ]
  },
  {
   "cell_type": "code",
   "execution_count": 31,
   "id": "3fdb25ea",
   "metadata": {},
   "outputs": [
    {
     "name": "stdout",
     "output_type": "stream",
     "text": [
      "[[1 2 3]\n",
      " [4 5 6]]\n",
      "(2, 3)\n",
      "2\n",
      "int32\n"
     ]
    }
   ],
   "source": [
    "matrix = np.array([[1,2,3],[4,5,6]])\n",
    "print(matrix)\n",
    "print(matrix.shape)\n",
    "print(matrix.ndim)\n",
    "print(matrix.dtype)"
   ]
  },
  {
   "cell_type": "markdown",
   "id": "395954bd",
   "metadata": {},
   "source": [
    "> 3차원 배열 생성"
   ]
  },
  {
   "cell_type": "code",
   "execution_count": 32,
   "id": "bd485f00",
   "metadata": {},
   "outputs": [
    {
     "name": "stdout",
     "output_type": "stream",
     "text": [
      "[[[ 1  2  3]\n",
      "  [ 4  5  6]]\n",
      "\n",
      " [[ 7  8  9]\n",
      "  [10 11 12]]]\n",
      "(2, 2, 3)\n",
      "3\n",
      "int32\n"
     ]
    }
   ],
   "source": [
    "tensor = np.array([[[1,2,3],[4,5,6]],[[7,8,9],[10,11,12]]])\n",
    "print(tensor)\n",
    "print(tensor.shape)\n",
    "print(tensor.ndim)\n",
    "print(tensor.dtype)"
   ]
  },
  {
   "cell_type": "markdown",
   "id": "58862f8d",
   "metadata": {},
   "source": [
    "### 배열의 정보 확인\n",
    ". 배열 요소의 개수 확인"
   ]
  },
  {
   "cell_type": "code",
   "execution_count": 34,
   "id": "b685b5ab",
   "metadata": {},
   "outputs": [
    {
     "name": "stdout",
     "output_type": "stream",
     "text": [
      "3\n",
      "6\n",
      "12\n"
     ]
    }
   ],
   "source": [
    "print(vector.size)\n",
    "print(matrix.size)\n",
    "print(tensor.size)"
   ]
  },
  {
   "cell_type": "code",
   "execution_count": 37,
   "id": "7678746c",
   "metadata": {},
   "outputs": [
    {
     "name": "stdout",
     "output_type": "stream",
     "text": [
      "[[1 2 3]\n",
      " [2 4 6]\n",
      " [3 6 9]]\n",
      "(3, 3)\n",
      "2\n",
      "9\n"
     ]
    }
   ],
   "source": [
    "# 배열 생성 예제\n",
    "tensor = np.array([[1,2,3],[2,4,6],[3,6,9]])\n",
    "print(tensor)\n",
    "print(tensor.shape)   # 모형\n",
    "print(tensor.ndim)    # 차원\n",
    "print(tensor.size)   # 크기"
   ]
  },
  {
   "cell_type": "markdown",
   "id": "bda0cd66",
   "metadata": {},
   "source": [
    "### 자료형 변환(리스트)\n",
    "> 리스트 <-> ndarray 변환"
   ]
  },
  {
   "cell_type": "code",
   "execution_count": 39,
   "id": "124b4505",
   "metadata": {},
   "outputs": [
    {
     "name": "stdout",
     "output_type": "stream",
     "text": [
      "[1 2 3]\n"
     ]
    }
   ],
   "source": [
    "# list -> ndarray\n",
    "list1 = [1,2,3]\n",
    "arr1 = np.array(list1)\n",
    "print(arr1)"
   ]
  },
  {
   "cell_type": "code",
   "execution_count": 42,
   "id": "8359c2b3",
   "metadata": {},
   "outputs": [
    {
     "name": "stdout",
     "output_type": "stream",
     "text": [
      "[1, 2, 3]\n"
     ]
    }
   ],
   "source": [
    "#ndarray -> list\n",
    "arr2 = np.array([1,2,3])\n",
    "list2 = list(arr2)\n",
    "print(list2)"
   ]
  },
  {
   "cell_type": "code",
   "execution_count": 44,
   "id": "193ae0af",
   "metadata": {},
   "outputs": [
    {
     "name": "stdout",
     "output_type": "stream",
     "text": [
      "[[1 2 3]\n",
      " [4 5 6]]\n"
     ]
    }
   ],
   "source": [
    "# 2차원 리스트 변환\n",
    "list3 = [[1,2,3],[4,5,6]]\n",
    "arr3 = np.array(list3)\n",
    "print(arr3)"
   ]
  },
  {
   "cell_type": "code",
   "execution_count": 47,
   "id": "5c74739b",
   "metadata": {},
   "outputs": [
    {
     "name": "stdout",
     "output_type": "stream",
     "text": [
      "[list([1, 2, 3, 4]) list([5, 6, 7])]\n",
      "2 (2,) 1\n"
     ]
    },
    {
     "name": "stderr",
     "output_type": "stream",
     "text": [
      "C:\\Users\\admin\\AppData\\Local\\Temp\\ipykernel_10612\\595011856.py:3: VisibleDeprecationWarning: Creating an ndarray from ragged nested sequences (which is a list-or-tuple of lists-or-tuples-or ndarrays with different lengths or shapes) is deprecated. If you meant to do this, you must specify 'dtype=object' when creating the ndarray.\n",
      "  arr4 = np.array(list4)\n"
     ]
    }
   ],
   "source": [
    "# shape 이 다른 리스트인 경우\n",
    "list4 = [[1,2,3,4],[5,6,7]]\n",
    "arr4 = np.array(list4)\n",
    "print(arr4)\n",
    "print(arr4.size, arr4.shape, arr4.ndim)"
   ]
  },
  {
   "cell_type": "markdown",
   "id": "6355756d",
   "metadata": {},
   "source": [
    "### 자료형 변환(튜플) - 리스트와 동일"
   ]
  },
  {
   "cell_type": "code",
   "execution_count": 48,
   "id": "28ab3ed9",
   "metadata": {},
   "outputs": [
    {
     "name": "stdout",
     "output_type": "stream",
     "text": [
      "[1 2 3]\n"
     ]
    }
   ],
   "source": [
    "# tuple -> ndarray\n",
    "tuple1 = (1,2,3)\n",
    "arr= np.array(tuple1)\n",
    "print(arr)"
   ]
  },
  {
   "cell_type": "code",
   "execution_count": 49,
   "id": "498a8092",
   "metadata": {},
   "outputs": [
    {
     "name": "stdout",
     "output_type": "stream",
     "text": [
      "(1, 2, 3)\n"
     ]
    }
   ],
   "source": [
    "# ndarray -> tuple\n",
    "arr2 = np.array([1,2,3])\n",
    "tuple2 = tuple(arr2)\n",
    "print(tuple2)"
   ]
  },
  {
   "cell_type": "markdown",
   "id": "23609adb",
   "metadata": {},
   "source": [
    "### 자료형 변환(세트, 딕셔너리)"
   ]
  },
  {
   "cell_type": "code",
   "execution_count": 50,
   "id": "5cdc058a",
   "metadata": {},
   "outputs": [
    {
     "name": "stdout",
     "output_type": "stream",
     "text": [
      "{1, 2, 3}\n"
     ]
    }
   ],
   "source": [
    "# 세트 변환\n",
    "set1 = {1,2,3}\n",
    "arr = np.array(set1)\n",
    "print(arr)"
   ]
  },
  {
   "cell_type": "code",
   "execution_count": 51,
   "id": "024e2201",
   "metadata": {},
   "outputs": [
    {
     "name": "stdout",
     "output_type": "stream",
     "text": [
      "{'a': 1, 'b': 2, 'c': 3}\n"
     ]
    }
   ],
   "source": [
    "# 딕셔너리 변환\n",
    "dict1 = {'a':1,'b':2,'c':3}\n",
    "arr= np.array(dict1)\n",
    "print(arr)"
   ]
  },
  {
   "cell_type": "markdown",
   "id": "129e8451",
   "metadata": {},
   "source": [
    "### 배열 인덱싱"
   ]
  },
  {
   "cell_type": "code",
   "execution_count": 60,
   "id": "05dfc8f6",
   "metadata": {},
   "outputs": [
    {
     "name": "stdout",
     "output_type": "stream",
     "text": [
      "1\n",
      "4\n",
      "7\n"
     ]
    }
   ],
   "source": [
    "# 리스트 인덱싱과 유사\n",
    "list_ = [[[1,2],[3,4]],[[5,6],[7,8]]]\n",
    "print(list_[0][0][0])\n",
    "print(list_[0][1][1])\n",
    "print(list_[1][1][0])"
   ]
  },
  {
   "cell_type": "code",
   "execution_count": 62,
   "id": "9383b3c7",
   "metadata": {},
   "outputs": [
    {
     "name": "stdout",
     "output_type": "stream",
     "text": [
      "1\n",
      "4\n",
      "7\n"
     ]
    }
   ],
   "source": [
    "# 리스트 인덱싱과 유사\n",
    "arr_ = np.array([[[1,2],[3,4]],[[5,6],[7,8]]])\n",
    "print(arr_[0][0][0])\n",
    "print(arr_[0][1][1])\n",
    "print(arr_[1][1][0])"
   ]
  },
  {
   "cell_type": "code",
   "execution_count": 63,
   "id": "badc0a26",
   "metadata": {},
   "outputs": [
    {
     "name": "stdout",
     "output_type": "stream",
     "text": [
      "1\n",
      "4\n",
      "7\n"
     ]
    }
   ],
   "source": [
    "arr_ = np.array([[[1,2],[3,4]],[[5,6],[7,8]]])\n",
    "print(arr_[0,0,0])\n",
    "print(arr_[0,1,1])\n",
    "print(arr_[1,1,0])"
   ]
  },
  {
   "cell_type": "code",
   "execution_count": 69,
   "id": "02cf8e28",
   "metadata": {},
   "outputs": [
    {
     "name": "stdout",
     "output_type": "stream",
     "text": [
      "[[1 2]]\n",
      "[[1 2]\n",
      " [5 6]]\n",
      "[1 4 5]\n",
      "[2 2]\n"
     ]
    }
   ],
   "source": [
    "# ndarray의 인덱싱\n",
    "arr_1 = np.array([[1,2],\n",
    "                  [3,4],\n",
    "                  [5,6]])\n",
    "# 0행 가져와서 2차원 배열 만들기\n",
    "print(arr_1[[0]])\n",
    "\n",
    "# 0, 2행 가져와서 2차원 배열 만들기\n",
    "print(arr_1[[0,2]])\n",
    "\n",
    "# 0,1,2번째 행에서 0,1,0 번째 값 가져오기\n",
    "print(arr_1[[0,1,2],[0,1,0]])\n",
    "\n",
    "# 0번째 행에서 인덱스1 번째 값 가져오기\n",
    "print(arr_1[[0,0],[1,1]])"
   ]
  },
  {
   "cell_type": "code",
   "execution_count": 71,
   "id": "0d4119d2",
   "metadata": {},
   "outputs": [
    {
     "name": "stdout",
     "output_type": "stream",
     "text": [
      "[ 1  6  7 11]\n"
     ]
    }
   ],
   "source": [
    "arr_2 = np.array([[1,2,3],[4,5,6],[7,8,9],[10,11,12]])\n",
    "b = np.array([0,1,2,3])\n",
    "c = np.array([0,2,0,1])\n",
    "print(arr_2[b,c])"
   ]
  },
  {
   "cell_type": "code",
   "execution_count": 73,
   "id": "e1d25520",
   "metadata": {},
   "outputs": [
    {
     "name": "stdout",
     "output_type": "stream",
     "text": [
      "[1 3 4]\n"
     ]
    }
   ],
   "source": [
    "# Boolean 인덱싱\n",
    "arr = np.array([1,2,3,4,5])\n",
    "print(arr[[True, False, True, True, False]])"
   ]
  },
  {
   "cell_type": "code",
   "execution_count": 74,
   "id": "a59acc63",
   "metadata": {},
   "outputs": [
    {
     "data": {
      "text/plain": [
       "array([3])"
      ]
     },
     "execution_count": 74,
     "metadata": {},
     "output_type": "execute_result"
    }
   ],
   "source": [
    "arr = np.array([1,2,3,4,5])\n",
    "arr[arr % 3 ==0]"
   ]
  },
  {
   "cell_type": "code",
   "execution_count": 80,
   "id": "558cef4c",
   "metadata": {
    "scrolled": true
   },
   "outputs": [
    {
     "name": "stdout",
     "output_type": "stream",
     "text": [
      "[91 93]\n",
      "[96 91]\n"
     ]
    }
   ],
   "source": [
    "# 문제\n",
    "score = np.array([[78,91,84,89,93,65],[82,87,96,79,91,73]])\n",
    "print(score[0][score[0] >= 90])\n",
    "print(score[1][score[1] >= 90])"
   ]
  },
  {
   "cell_type": "markdown",
   "id": "c7c7309a",
   "metadata": {},
   "source": [
    "### 배열 슬라이싱\n",
    "> ndarray의 슬라이싱\n",
    "- 행과 열 부분을 나눠서 슬라이싱 가능\n",
    "- 다차원 배열의 부분 데이터를 추출할 때 유용"
   ]
  },
  {
   "cell_type": "code",
   "execution_count": 9,
   "id": "5e260d9c",
   "metadata": {},
   "outputs": [],
   "source": [
    "import numpy as np"
   ]
  },
  {
   "cell_type": "code",
   "execution_count": 10,
   "id": "875ce665",
   "metadata": {
    "scrolled": true
   },
   "outputs": [
    {
     "name": "stdout",
     "output_type": "stream",
     "text": [
      "[ 1  6 11 16]\n",
      "[[ 1]\n",
      " [ 6]\n",
      " [11]\n",
      " [16]]\n"
     ]
    }
   ],
   "source": [
    "matrix = np.array([[1,2,3,4,5],[6,7,8,9,10],[11,12,13,14,15],[16,17,18,19,20]])\n",
    "\n",
    "# 0열 전체 슬라이싱\n",
    "print(matrix[:,0])    #([row:column])\n",
    "\n",
    "# 0열 전체 슬라이싱(2차원 유지)\n",
    "print(matrix[:,:1])    # print(matrix[:,[0]])"
   ]
  },
  {
   "cell_type": "code",
   "execution_count": 13,
   "id": "77a6e093",
   "metadata": {},
   "outputs": [
    {
     "name": "stdout",
     "output_type": "stream",
     "text": [
      "[ 6  7  8  9 10]\n",
      "[ 6  7  8  9 10]\n",
      "[[ 6  7  8  9 10]]\n"
     ]
    }
   ],
   "source": [
    "# 1행 전체 슬라이싱\n",
    "print(matrix[1,:])\n",
    "print(matrix[1])\n",
    "\n",
    "# 1행 전체 슬라이싱(2차원 유지)\n",
    "print(matrix[1:2,:])    # print(matrix[[1]])"
   ]
  },
  {
   "cell_type": "code",
   "execution_count": 22,
   "id": "2aa4d2b2",
   "metadata": {},
   "outputs": [
    {
     "name": "stdout",
     "output_type": "stream",
     "text": [
      "[[ 4  5]\n",
      " [ 9 10]\n",
      " [14 15]\n",
      " [19 20]]\n",
      "[2 3 4]\n"
     ]
    }
   ],
   "source": [
    "# 3~4열 전체 슬라이싱\n",
    "print(matrix[:,3:])\n",
    "\n",
    "# 0행, 1~3열 슬라이싱\n",
    "print(matrix[0,1:-1])   # print(matrix[0,1:4])b"
   ]
  },
  {
   "cell_type": "code",
   "execution_count": 25,
   "id": "341c7104",
   "metadata": {},
   "outputs": [
    {
     "name": "stdout",
     "output_type": "stream",
     "text": [
      "[[13 14 15]\n",
      " [18 19 20]]\n",
      "[[ 7  8]\n",
      " [12 13]]\n"
     ]
    }
   ],
   "source": [
    "# 2~3행, 2~4열 슬라이싱\n",
    "print(matrix[-2:,-3:])\n",
    "\n",
    "# 1~2행, 1~2열 슬라이싱\n",
    "print(matrix[1:-1,1:3])"
   ]
  },
  {
   "cell_type": "markdown",
   "id": "3c69e2af",
   "metadata": {},
   "source": [
    "### 배열 인덱싱, 슬라이싱 복합"
   ]
  },
  {
   "cell_type": "code",
   "execution_count": 27,
   "id": "b0191232",
   "metadata": {},
   "outputs": [
    {
     "name": "stdout",
     "output_type": "stream",
     "text": [
      "[[ 8  9 10]\n",
      " [18 19 20]]\n",
      "[[ 7  9]\n",
      " [12 14]]\n"
     ]
    }
   ],
   "source": [
    "# 1,3행, 2~4열 슬라이싱\n",
    "print(matrix[[1,3],2:])\n",
    "\n",
    "# 1~2행, 1,3열 슬라이싱\n",
    "print(matrix[1:-1,[1,3]])"
   ]
  },
  {
   "cell_type": "code",
   "execution_count": 71,
   "id": "0edeca4f",
   "metadata": {},
   "outputs": [
    {
     "name": "stdout",
     "output_type": "stream",
     "text": [
      "[[[ 1  2  3]\n",
      "  [ 4  5  6]]\n",
      "\n",
      " [[ 7  8  9]\n",
      "  [10 11 12]]]\n",
      "[10  2  6]\n"
     ]
    }
   ],
   "source": [
    "# 문제3\n",
    "tensor = np.array([[[1,2,3],[4,5,6]],[[7,8,9],[10,11,12]]])\n",
    "print(tensor)\n",
    "\n",
    "print(tensor[[1,0,0],[1,0,1],[0,1,2]])   #[각자 위치한 랭크 위치],[행위치],[열위치]\n"
   ]
  },
  {
   "cell_type": "code",
   "execution_count": 72,
   "id": "97d11e79",
   "metadata": {},
   "outputs": [
    {
     "name": "stdout",
     "output_type": "stream",
     "text": [
      "[[1 2]\n",
      " [4 5]]\n",
      "[ 9 12]\n"
     ]
    }
   ],
   "source": [
    "# 문제4\n",
    "print(tensor[0,0:,0:2])\n",
    "\n",
    "print(tensor[1,:,2])"
   ]
  }
 ],
 "metadata": {
  "kernelspec": {
   "display_name": "Python 3 (ipykernel)",
   "language": "python",
   "name": "python3"
  },
  "language_info": {
   "codemirror_mode": {
    "name": "ipython",
    "version": 3
   },
   "file_extension": ".py",
   "mimetype": "text/x-python",
   "name": "python",
   "nbconvert_exporter": "python",
   "pygments_lexer": "ipython3",
   "version": "3.9.12"
  }
 },
 "nbformat": 4,
 "nbformat_minor": 5
}
