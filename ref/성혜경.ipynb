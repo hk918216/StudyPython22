{
 "cells": [
  {
   "cell_type": "markdown",
   "metadata": {},
   "source": [
    "### 1번문제\n",
    "\n",
    "반지름 값을 입력받아 원의 넓이를 구하여 출력하는 프로그램을 구현하세요. 파이는 3.141592 입니다."
   ]
  },
  {
   "cell_type": "code",
   "execution_count": 1,
   "metadata": {},
   "outputs": [
    {
     "name": "stdout",
     "output_type": "stream",
     "text": [
      "157.0796\n"
     ]
    }
   ],
   "source": [
    "circle = int(input('반지름 값 입력'))\n",
    "print(circle * circle * 3.141592)"
   ]
  },
  {
   "cell_type": "markdown",
   "metadata": {},
   "source": [
    "### 2번문제\n",
    "\n",
    "태양계는 수성, 금성, 지구, 화성, 목성, 토성, 천왕성, 혜왕성, 명왕성으로 구성됩니다. 영어이름은 Mercury, Venus, Earth, Mars, Jupiter,  Saturn, Uranus, Neptune 입니다.  행성의 한글이름을 입력하면 영어행성명이 출력되는 프로그램을 구현하세요."
   ]
  },
  {
   "cell_type": "code",
   "execution_count": 15,
   "metadata": {},
   "outputs": [
    {
     "data": {
      "text/plain": [
       "'Neptune'"
      ]
     },
     "execution_count": 15,
     "metadata": {},
     "output_type": "execute_result"
    }
   ],
   "source": [
    "planet = {'수성':'Mercury', '금성':'Venus', '지구':'Earth', '화성':'Mars', '목성':'Jupiter',\n",
    "          '토성':'Saturn', '천왕성':'Uranus','혜왕성':'Neptune'}\n",
    "name = input('행성의 한글이름을 입력하시오')\n",
    "\n",
    "planet[name]"
   ]
  },
  {
   "cell_type": "markdown",
   "metadata": {},
   "source": [
    "### 3번문제\n",
    "\n",
    "입력한 한글 문자열의 단어의 수를 출력하는 프로그램을 구현하세요. 예) 흐르는 강물을 거꾸로 거슬러 오르는 연어들의 = 6  "
   ]
  },
  {
   "cell_type": "code",
   "execution_count": 1,
   "metadata": {},
   "outputs": [
    {
     "name": "stdout",
     "output_type": "stream",
     "text": [
      "6\n"
     ]
    }
   ],
   "source": [
    "str = '흐르는 강물을 거꾸로 거슬러 오르는 연어들의'\n",
    "result = len(str.split(' '))\n",
    "\n",
    "print(result)"
   ]
  },
  {
   "cell_type": "code",
   "execution_count": 2,
   "metadata": {},
   "outputs": [
    {
     "name": "stdout",
     "output_type": "stream",
     "text": [
      "2\n"
     ]
    }
   ],
   "source": [
    "input_str = input('문장입력 > ')\n",
    "\n",
    "str_len = len(input_str.split(' '))\n",
    "print(str_len)"
   ]
  },
  {
   "cell_type": "markdown",
   "metadata": {},
   "source": [
    "### 4번문제\n",
    "\n",
    "입력한 수를 거꾸로 출력하는 프로그램을 구현하세요. 예) 1 4 5 9 2 --> 2 9 5 4 1  (exam04.py)"
   ]
  },
  {
   "cell_type": "code",
   "execution_count": 3,
   "metadata": {},
   "outputs": [
    {
     "name": "stdout",
     "output_type": "stream",
     "text": [
      "[5, 4, 3, 2, 1]\n"
     ]
    }
   ],
   "source": [
    "a = input()\n",
    "print(list(map(int, a))[::-1])"
   ]
  },
  {
   "cell_type": "markdown",
   "metadata": {},
   "source": [
    "### 5번문제\n",
    "\n",
    "구구단을 수행할 단번호를 입력하면 그 단의 9까지의 결과를 나열하는 프로그램을 입력하세요."
   ]
  },
  {
   "cell_type": "code",
   "execution_count": 67,
   "metadata": {},
   "outputs": [
    {
     "name": "stdout",
     "output_type": "stream",
     "text": [
      "3 6 9 12 15 18 21 24 27 "
     ]
    }
   ],
   "source": [
    "x = int(input())\n",
    "for y in range(1,10) :\n",
    "     if x:\n",
    "        print(x * y, end=' ')\n",
    "     else:\n",
    "        break\n",
    "   "
   ]
  }
 ],
 "metadata": {
  "interpreter": {
   "hash": "38ae1ba9371524da054e8e3fbefd778d16b5a8ac7937a3f395010f627bb73919"
  },
  "kernelspec": {
   "display_name": "Python 3 (ipykernel)",
   "language": "python",
   "name": "python3"
  },
  "language_info": {
   "codemirror_mode": {
    "name": "ipython",
    "version": 3
   },
   "file_extension": ".py",
   "mimetype": "text/x-python",
   "name": "python",
   "nbconvert_exporter": "python",
   "pygments_lexer": "ipython3",
   "version": "3.9.12"
  }
 },
 "nbformat": 4,
 "nbformat_minor": 2
}
