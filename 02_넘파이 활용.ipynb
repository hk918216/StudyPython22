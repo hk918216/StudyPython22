{
 "cells": [
  {
   "cell_type": "markdown",
   "id": "64b80f4e",
   "metadata": {},
   "source": [
    "# 넘파이 활용"
   ]
  },
  {
   "cell_type": "markdown",
   "id": "733e7ce3",
   "metadata": {},
   "source": [
    "### Reshape"
   ]
  },
  {
   "cell_type": "code",
   "execution_count": 2,
   "id": "3d6c360d",
   "metadata": {},
   "outputs": [],
   "source": [
    "import numpy as np"
   ]
  },
  {
   "cell_type": "code",
   "execution_count": 25,
   "id": "0ce13032",
   "metadata": {},
   "outputs": [
    {
     "name": "stdout",
     "output_type": "stream",
     "text": [
      "[[1 2]\n",
      " [3 4]\n",
      " [5 6]]\n"
     ]
    }
   ],
   "source": [
    "# array.rehape(size)\n",
    "arr = np.array([[1,2,3],[4,5,6]])  # 2x3 행렬\n",
    "print(arr.reshape(3,2))            # 3x2 행렬로 변환"
   ]
  },
  {
   "cell_type": "code",
   "execution_count": 5,
   "id": "19d2d0eb",
   "metadata": {},
   "outputs": [
    {
     "name": "stdout",
     "output_type": "stream",
     "text": [
      "[[1]\n",
      " [2]\n",
      " [3]\n",
      " [4]\n",
      " [5]\n",
      " [6]]\n",
      "[[1 2 3 4 5 6]]\n"
     ]
    }
   ],
   "source": [
    "print(arr.reshape(6,1))\n",
    "print(arr.reshape(1,6))"
   ]
  },
  {
   "cell_type": "code",
   "execution_count": 12,
   "id": "2bacd4d9",
   "metadata": {},
   "outputs": [
    {
     "name": "stdout",
     "output_type": "stream",
     "text": [
      "[[[1 2]]\n",
      "\n",
      " [[3 4]]\n",
      "\n",
      " [[5 6]]]\n"
     ]
    }
   ],
   "source": [
    "print(arr.reshape(3,1,2))"
   ]
  },
  {
   "cell_type": "code",
   "execution_count": 9,
   "id": "a08ae42c",
   "metadata": {},
   "outputs": [
    {
     "name": "stdout",
     "output_type": "stream",
     "text": [
      "[1 2 3 4 5 6]\n"
     ]
    }
   ],
   "source": [
    "print(arr.reshape(6))"
   ]
  },
  {
   "cell_type": "code",
   "execution_count": 13,
   "id": "634db5f7",
   "metadata": {},
   "outputs": [
    {
     "name": "stdout",
     "output_type": "stream",
     "text": [
      "[[1 2]\n",
      " [3 4]\n",
      " [5 6]]\n"
     ]
    }
   ],
   "source": [
    "print(arr.reshape(-1,2))"
   ]
  },
  {
   "cell_type": "code",
   "execution_count": 14,
   "id": "650cf6db",
   "metadata": {},
   "outputs": [
    {
     "name": "stdout",
     "output_type": "stream",
     "text": [
      "[[1 2 3]\n",
      " [4 5 6]]\n"
     ]
    }
   ],
   "source": [
    "print(arr.reshape(2,-1))"
   ]
  },
  {
   "cell_type": "code",
   "execution_count": 17,
   "id": "ac2cd304",
   "metadata": {},
   "outputs": [
    {
     "name": "stdout",
     "output_type": "stream",
     "text": [
      "[ 1  2  3  4  5  6  7  8  9 10 11 12 13 14 15 16 17 18 19 20 21 22 23 24\n",
      " 25 26 27 28 29 30 31 32 33 34 35 36]\n"
     ]
    }
   ],
   "source": [
    "tensor = np.array(range(1,37))\n",
    "print(tensor)"
   ]
  },
  {
   "cell_type": "code",
   "execution_count": 23,
   "id": "d5fdae55",
   "metadata": {},
   "outputs": [
    {
     "name": "stdout",
     "output_type": "stream",
     "text": [
      "[[[ 1  2  3  4]\n",
      "  [ 5  6  7  8]\n",
      "  [ 9 10 11 12]]\n",
      "\n",
      " [[13 14 15 16]\n",
      "  [17 18 19 20]\n",
      "  [21 22 23 24]]\n",
      "\n",
      " [[25 26 27 28]\n",
      "  [29 30 31 32]\n",
      "  [33 34 35 36]]]\n"
     ]
    }
   ],
   "source": [
    "print(tensor.reshape(3,3,4))"
   ]
  },
  {
   "cell_type": "code",
   "execution_count": 22,
   "id": "af05f7af",
   "metadata": {},
   "outputs": [
    {
     "name": "stdout",
     "output_type": "stream",
     "text": [
      "[[ 1  2  3  4  5  6  7  8  9]\n",
      " [10 11 12 13 14 15 16 17 18]\n",
      " [19 20 21 22 23 24 25 26 27]\n",
      " [28 29 30 31 32 33 34 35 36]]\n"
     ]
    }
   ],
   "source": [
    "# 문제 - tensor 배열을 2차원 배열로 변형(열의 개수는 9)\n",
    "print(tensor.reshape(-1,9))"
   ]
  },
  {
   "cell_type": "markdown",
   "id": "4a46b548",
   "metadata": {},
   "source": [
    "### Flatten\n",
    "> 다차원 배열을 1차원 배열로 변형"
   ]
  },
  {
   "cell_type": "code",
   "execution_count": 30,
   "id": "a0193dd0",
   "metadata": {},
   "outputs": [
    {
     "name": "stdout",
     "output_type": "stream",
     "text": [
      "[1 2 3 4 5 6]\n"
     ]
    }
   ],
   "source": [
    "arr = np.array([[1,2,3],[4,5,6]])\n",
    "print(arr.flatten())"
   ]
  },
  {
   "cell_type": "code",
   "execution_count": 31,
   "id": "c98da4f0",
   "metadata": {},
   "outputs": [
    {
     "name": "stdout",
     "output_type": "stream",
     "text": [
      "[ 1  2  3  4  5  6  7  8  9 10 11 12 13 14 15 16 17 18 19 20 21 22 23 24\n",
      " 25 26 27 28 29 30 31 32 33 34 35 36]\n"
     ]
    }
   ],
   "source": [
    "print(tensor.flatten())"
   ]
  },
  {
   "cell_type": "markdown",
   "id": "07e586f1",
   "metadata": {},
   "source": [
    "### Arange\n",
    "- range 함수와 비슷한 기능\n",
    "- 갑의 범위를 지정하여 값이 채워져 있는 배열을 생성\n",
    "- 특정한 규칙에 따라 증가하는 값을 넣는 것도 가능"
   ]
  },
  {
   "cell_type": "code",
   "execution_count": 32,
   "id": "91718109",
   "metadata": {},
   "outputs": [
    {
     "name": "stdout",
     "output_type": "stream",
     "text": [
      "[ 0  1  2  3  4  5  6  7  8  9 10 11 12 13 14 15 16 17 18 19 20 21 22 23\n",
      " 24 25 26 27 28 29]\n"
     ]
    }
   ],
   "source": [
    "print(np.arange(30))   # np.array(range(30))"
   ]
  },
  {
   "cell_type": "code",
   "execution_count": 38,
   "id": "2b88e237",
   "metadata": {},
   "outputs": [
    {
     "name": "stdout",
     "output_type": "stream",
     "text": [
      "[0 2 4 6 8]\n",
      "[1.  1.2 1.4 1.6 1.8]\n",
      "[10  9  8  7  6  5  4  3  2  1]\n"
     ]
    }
   ],
   "source": [
    "# 간격지정 (start,end,step)\n",
    "print(np.arange(0,10,2))\n",
    "\n",
    "print(np.arange(1,2,0.2))\n",
    "\n",
    "print(np.arange(10,0,-1))"
   ]
  },
  {
   "cell_type": "code",
   "execution_count": 39,
   "id": "d7594721",
   "metadata": {},
   "outputs": [
    {
     "data": {
      "text/plain": [
       "array([[ 1,  2,  3,  4,  5],\n",
       "       [ 6,  7,  8,  9, 10],\n",
       "       [11, 12, 13, 14, 15],\n",
       "       [16, 17, 18, 19, 20],\n",
       "       [21, 22, 23, 24, 25]])"
      ]
     },
     "execution_count": 39,
     "metadata": {},
     "output_type": "execute_result"
    }
   ],
   "source": [
    "# arange_reshape\n",
    "np.arange(1,26).reshape(5,5)"
   ]
  },
  {
   "cell_type": "code",
   "execution_count": 41,
   "id": "50780ed6",
   "metadata": {},
   "outputs": [
    {
     "name": "stdout",
     "output_type": "stream",
     "text": [
      "[[[0.  0.2 0.4 0.6 0.8]\n",
      "  [1.  1.2 1.4 1.6 1.8]]\n",
      "\n",
      " [[2.  2.2 2.4 2.6 2.8]\n",
      "  [3.  3.2 3.4 3.6 3.8]]\n",
      "\n",
      " [[4.  4.2 4.4 4.6 4.8]\n",
      "  [5.  5.2 5.4 5.6 5.8]]]\n"
     ]
    }
   ],
   "source": [
    "print(np.arange(0,6,0.2).reshape(3,2,5))"
   ]
  },
  {
   "cell_type": "code",
   "execution_count": 53,
   "id": "c7d1f3e1",
   "metadata": {},
   "outputs": [
    {
     "name": "stdout",
     "output_type": "stream",
     "text": [
      "[[100 110 120 130 140]\n",
      " [150 160 170 180 190]]\n"
     ]
    }
   ],
   "source": [
    "# 문제3\n",
    "print(np.arange(100,191,10).reshape(2,5))"
   ]
  },
  {
   "cell_type": "code",
   "execution_count": 58,
   "id": "5df80e6c",
   "metadata": {},
   "outputs": [
    {
     "name": "stdout",
     "output_type": "stream",
     "text": [
      "[[[-2.  -1.5 -1. ]\n",
      "  [-0.5  0.   0.5]\n",
      "  [ 1.   1.5  2. ]]]\n"
     ]
    }
   ],
   "source": [
    "# 문제4 (3차원배열로)\n",
    "print(np.arange(-2,2.1,0.5).reshape(1,3,3))  # reshape(3,1,3) or (1,3,3) 0r (3,3,1)"
   ]
  },
  {
   "cell_type": "markdown",
   "id": "757e7e9f",
   "metadata": {},
   "source": [
    "### Zeros\n",
    "- 0으로 채워진 배열 생성"
   ]
  },
  {
   "cell_type": "code",
   "execution_count": 59,
   "id": "e96ea222",
   "metadata": {},
   "outputs": [
    {
     "name": "stdout",
     "output_type": "stream",
     "text": [
      "[0 0 0 0 0]\n"
     ]
    }
   ],
   "source": [
    "print(np.zeros(shape=(5,), dtype=np.int8))"
   ]
  },
  {
   "cell_type": "code",
   "execution_count": 64,
   "id": "b517ab62",
   "metadata": {},
   "outputs": [
    {
     "name": "stdout",
     "output_type": "stream",
     "text": [
      "[0 0 0 0 0]\n"
     ]
    }
   ],
   "source": [
    "print(np.zeros((5),int))"
   ]
  },
  {
   "cell_type": "code",
   "execution_count": 65,
   "id": "2db33ef6",
   "metadata": {},
   "outputs": [
    {
     "name": "stdout",
     "output_type": "stream",
     "text": [
      "[[0. 0. 0.]\n",
      " [0. 0. 0.]]\n"
     ]
    }
   ],
   "source": [
    "print(np.zeros((2,3)))  # dtype = float64"
   ]
  },
  {
   "cell_type": "markdown",
   "id": "b82d085e",
   "metadata": {},
   "source": [
    "### Ones\n",
    "- 1으로 채워진 배열 생성"
   ]
  },
  {
   "cell_type": "code",
   "execution_count": 66,
   "id": "deb6ada4",
   "metadata": {},
   "outputs": [
    {
     "name": "stdout",
     "output_type": "stream",
     "text": [
      "[1 1 1 1 1]\n"
     ]
    }
   ],
   "source": [
    "print(np.ones(shape=(5,), dtype=np.int8))"
   ]
  },
  {
   "cell_type": "code",
   "execution_count": 67,
   "id": "760f242e",
   "metadata": {},
   "outputs": [
    {
     "name": "stdout",
     "output_type": "stream",
     "text": [
      "[1 1 1 1 1]\n"
     ]
    }
   ],
   "source": [
    "print(np.ones((5),int))"
   ]
  },
  {
   "cell_type": "code",
   "execution_count": 68,
   "id": "06f1ce1b",
   "metadata": {
    "scrolled": true
   },
   "outputs": [
    {
     "name": "stdout",
     "output_type": "stream",
     "text": [
      "[[1. 1. 1.]\n",
      " [1. 1. 1.]]\n"
     ]
    }
   ],
   "source": [
    "print(np.ones((2,3))) "
   ]
  },
  {
   "cell_type": "markdown",
   "id": "65081c88",
   "metadata": {},
   "source": [
    "### Empty\n",
    "- shape만 주어지고 비어있는 배열 생성\n",
    "- 배열을 생성만 하고 값을 주지 않아 메모리에 저장되어 있던 기준"
   ]
  },
  {
   "cell_type": "code",
   "execution_count": 70,
   "id": "4e4209e9",
   "metadata": {},
   "outputs": [
    {
     "name": "stdout",
     "output_type": "stream",
     "text": [
      "[0 0 0 0 0 0 0 0 0 0]\n"
     ]
    }
   ],
   "source": [
    "print(np.empty(shape=(10,), dtype = np.int32))"
   ]
  },
  {
   "cell_type": "code",
   "execution_count": 71,
   "id": "aa668236",
   "metadata": {},
   "outputs": [
    {
     "name": "stdout",
     "output_type": "stream",
     "text": [
      "[[  64  -98  -25 -101   -8]\n",
      " [   1    0    0    0    0]]\n"
     ]
    }
   ],
   "source": [
    "print(np.empty((2,5),np.int8))"
   ]
  },
  {
   "cell_type": "markdown",
   "id": "f556d8dd",
   "metadata": {},
   "source": [
    "### Zeros_like / Ones_like / Empty_like\n",
    "- 입력받은 배열과 같은 shape, dtype의 배열 생성"
   ]
  },
  {
   "cell_type": "code",
   "execution_count": 72,
   "id": "ea58b8c3",
   "metadata": {},
   "outputs": [
    {
     "name": "stdout",
     "output_type": "stream",
     "text": [
      "[[0 0 0 0 0 0]\n",
      " [0 0 0 0 0 0]\n",
      " [0 0 0 0 0 0]\n",
      " [0 0 0 0 0 0]]\n"
     ]
    }
   ],
   "source": [
    "matrix = np.arange(24).reshape(4,6)\n",
    "print(np.zeros_like(matrix))"
   ]
  },
  {
   "cell_type": "code",
   "execution_count": 73,
   "id": "e4e3c12a",
   "metadata": {},
   "outputs": [
    {
     "name": "stdout",
     "output_type": "stream",
     "text": [
      "[[1. 1. 1. 1. 1. 1. 1. 1. 1. 1.]\n",
      " [1. 1. 1. 1. 1. 1. 1. 1. 1. 1.]]\n"
     ]
    }
   ],
   "source": [
    "matrix = np.arange(-2,2,0.2).reshape(2,10)\n",
    "print(np.ones_like(matrix))"
   ]
  },
  {
   "cell_type": "code",
   "execution_count": 75,
   "id": "a8eff7bd",
   "metadata": {},
   "outputs": [
    {
     "name": "stdout",
     "output_type": "stream",
     "text": [
      "[[0 0 0 0 0 0]\n",
      " [0 0 0 0 0 0]\n",
      " [0 0 0 0 0 0]\n",
      " [0 0 0 0 0 0]\n",
      " [0 0 0 0 0 0]]\n"
     ]
    }
   ],
   "source": [
    "matrix = np.arange(30).reshape(5,6)\n",
    "print(np.empty_like(matrix))"
   ]
  },
  {
   "cell_type": "markdown",
   "id": "a66f2002",
   "metadata": {},
   "source": [
    "### Identity\n",
    "- 단위 행렬-주대각선의 값이 1이고 나머지는 0인 정사각 행렬"
   ]
  },
  {
   "cell_type": "code",
   "execution_count": 77,
   "id": "556bcf1f",
   "metadata": {},
   "outputs": [
    {
     "name": "stdout",
     "output_type": "stream",
     "text": [
      "[[1 0 0 0 0]\n",
      " [0 1 0 0 0]\n",
      " [0 0 1 0 0]\n",
      " [0 0 0 1 0]\n",
      " [0 0 0 0 1]]\n"
     ]
    }
   ],
   "source": [
    "print(np.identity(5,dtype=np.int8))"
   ]
  },
  {
   "cell_type": "code",
   "execution_count": 78,
   "id": "ce6bb060",
   "metadata": {},
   "outputs": [
    {
     "name": "stdout",
     "output_type": "stream",
     "text": [
      "[['1' '' '' '' '']\n",
      " ['' '1' '' '' '']\n",
      " ['' '' '1' '' '']\n",
      " ['' '' '' '1' '']\n",
      " ['' '' '' '' '1']]\n"
     ]
    }
   ],
   "source": [
    "print(np.identity(5,dtype=np.str_))"
   ]
  },
  {
   "cell_type": "markdown",
   "id": "56e67bcb",
   "metadata": {},
   "source": [
    "### Eye\n",
    "- 대각선이 1로 채워지는 행렬\n",
    "- 대각선의 시작 위치 지정 가능"
   ]
  },
  {
   "cell_type": "code",
   "execution_count": 79,
   "id": "948203ab",
   "metadata": {},
   "outputs": [
    {
     "name": "stdout",
     "output_type": "stream",
     "text": [
      "[[1 0 0 0 0]\n",
      " [0 1 0 0 0]\n",
      " [0 0 1 0 0]\n",
      " [0 0 0 1 0]\n",
      " [0 0 0 0 1]]\n"
     ]
    }
   ],
   "source": [
    "print(np.eye(5,dtype=np.int8))"
   ]
  },
  {
   "cell_type": "code",
   "execution_count": 80,
   "id": "2a1badb8",
   "metadata": {},
   "outputs": [
    {
     "name": "stdout",
     "output_type": "stream",
     "text": [
      "[[0. 0. 0. 0. 0. 0. 0. 0. 0. 0.]\n",
      " [1. 0. 0. 0. 0. 0. 0. 0. 0. 0.]\n",
      " [0. 1. 0. 0. 0. 0. 0. 0. 0. 0.]\n",
      " [0. 0. 1. 0. 0. 0. 0. 0. 0. 0.]\n",
      " [0. 0. 0. 1. 0. 0. 0. 0. 0. 0.]]\n"
     ]
    }
   ],
   "source": [
    "print(np.eye(5, M=10, k=-1))"
   ]
  },
  {
   "cell_type": "markdown",
   "id": "4106e090",
   "metadata": {},
   "source": [
    "### Full\n",
    "- 입력값으로 채워지는 행렬"
   ]
  },
  {
   "cell_type": "code",
   "execution_count": 81,
   "id": "f2503ce6",
   "metadata": {},
   "outputs": [
    {
     "name": "stdout",
     "output_type": "stream",
     "text": [
      "[[3 3 3 3 3]\n",
      " [3 3 3 3 3]]\n"
     ]
    }
   ],
   "source": [
    "print(np.full((2,5),3))"
   ]
  },
  {
   "cell_type": "code",
   "execution_count": 82,
   "id": "9eddfa5d",
   "metadata": {},
   "outputs": [
    {
     "name": "stdout",
     "output_type": "stream",
     "text": [
      "[['a' 'a' 'a' 'a']\n",
      " ['a' 'a' 'a' 'a']\n",
      " ['a' 'a' 'a' 'a']\n",
      " ['a' 'a' 'a' 'a']\n",
      " ['a' 'a' 'a' 'a']]\n"
     ]
    }
   ],
   "source": [
    "print(np.full((5,4),'a'))"
   ]
  },
  {
   "cell_type": "code",
   "execution_count": 85,
   "id": "a100b842",
   "metadata": {},
   "outputs": [
    {
     "data": {
      "text/plain": [
       "array([[3., 3., 3.],\n",
       "       [3., 3., 3.],\n",
       "       [3., 3., 3.]])"
      ]
     },
     "execution_count": 85,
     "metadata": {},
     "output_type": "execute_result"
    }
   ],
   "source": [
    "np.ones((3,3)) * 3"
   ]
  },
  {
   "cell_type": "markdown",
   "id": "fccbe13e",
   "metadata": {},
   "source": [
    "### Random.randint\n",
    "- 주어진 범위 안의 랜덤한 값을 뽑는 함수"
   ]
  },
  {
   "cell_type": "code",
   "execution_count": 88,
   "id": "ad7c9c97",
   "metadata": {},
   "outputs": [
    {
     "name": "stdout",
     "output_type": "stream",
     "text": [
      "1\n"
     ]
    }
   ],
   "source": [
    "# 0~5 정수 중 랜덤\n",
    "print(np.random.randint(6))"
   ]
  },
  {
   "cell_type": "code",
   "execution_count": 87,
   "id": "23990366",
   "metadata": {},
   "outputs": [
    {
     "name": "stdout",
     "output_type": "stream",
     "text": [
      "3\n"
     ]
    }
   ],
   "source": [
    "print(np.random.randint(1,20))"
   ]
  },
  {
   "cell_type": "code",
   "execution_count": 89,
   "id": "496303c8",
   "metadata": {},
   "outputs": [],
   "source": [
    "import random"
   ]
  },
  {
   "cell_type": "code",
   "execution_count": 91,
   "id": "2016803c",
   "metadata": {},
   "outputs": [
    {
     "data": {
      "text/plain": [
       "6"
      ]
     },
     "execution_count": 91,
     "metadata": {},
     "output_type": "execute_result"
    }
   ],
   "source": [
    "random.randint(1,10)"
   ]
  },
  {
   "cell_type": "code",
   "execution_count": 90,
   "id": "63d92f71",
   "metadata": {},
   "outputs": [
    {
     "data": {
      "text/plain": [
       "array([ 8, 14])"
      ]
     },
     "execution_count": 90,
     "metadata": {},
     "output_type": "execute_result"
    }
   ],
   "source": [
    "np.random.randint(1,20,2)"
   ]
  },
  {
   "cell_type": "markdown",
   "id": "e95546cc",
   "metadata": {},
   "source": [
    "### Random.rand\n",
    "- 랜덤한 값으로 채워지는 배열"
   ]
  },
  {
   "cell_type": "code",
   "execution_count": 93,
   "id": "e1e0d4b0",
   "metadata": {},
   "outputs": [
    {
     "name": "stdout",
     "output_type": "stream",
     "text": [
      "[0.44035503 0.22464728 0.31352227]\n"
     ]
    }
   ],
   "source": [
    "# 0~1 사이의 값 가짐\n",
    "print(np.random.rand(3))"
   ]
  },
  {
   "cell_type": "code",
   "execution_count": 94,
   "id": "04b62f94",
   "metadata": {},
   "outputs": [
    {
     "name": "stdout",
     "output_type": "stream",
     "text": [
      "[[0.16381496 0.52416142]\n",
      " [0.32518644 0.63274718]\n",
      " [0.04878885 0.47374999]]\n"
     ]
    }
   ],
   "source": [
    "print(np.random.rand(3,2))"
   ]
  },
  {
   "cell_type": "code",
   "execution_count": 95,
   "id": "01f7f224",
   "metadata": {
    "scrolled": true
   },
   "outputs": [
    {
     "data": {
      "text/plain": [
       "array([[0.23233808, 0.98117963, 0.21063887, 0.21315365, 0.37056449],\n",
       "       [0.00689103, 0.097329  , 0.00616252, 0.50394554, 0.77959851]])"
      ]
     },
     "execution_count": 95,
     "metadata": {},
     "output_type": "execute_result"
    }
   ],
   "source": [
    "np.random.rand(2,5)"
   ]
  },
  {
   "cell_type": "markdown",
   "id": "19b81bd9",
   "metadata": {},
   "source": [
    "### Random.randn\n",
    "-랜덤한 값으로 채워지는 배열\n",
    "- 평균0, 표준편차 1의 가우시안 표준정규분포 난수를 shape형태의 배열로 생성"
   ]
  },
  {
   "cell_type": "code",
   "execution_count": 96,
   "id": "b230a3e1",
   "metadata": {},
   "outputs": [
    {
     "name": "stdout",
     "output_type": "stream",
     "text": [
      "[-2.63325022  0.88317554  0.9162906 ]\n"
     ]
    }
   ],
   "source": [
    "print(np.random.randn(3))"
   ]
  },
  {
   "cell_type": "code",
   "execution_count": 97,
   "id": "7601ad25",
   "metadata": {},
   "outputs": [
    {
     "name": "stdout",
     "output_type": "stream",
     "text": [
      "[[ 0.80132121  2.19142676]\n",
      " [-0.80154598  2.64298262]\n",
      " [ 0.04944934 -0.47620701]]\n"
     ]
    }
   ],
   "source": [
    "print(np.random.randn(3,2))"
   ]
  },
  {
   "cell_type": "markdown",
   "id": "a831476f",
   "metadata": {},
   "source": [
    "## 연산함수\n",
    "- 배열의 요소값들을 이용하여 연산을 할 수 있게 해주는 함수"
   ]
  },
  {
   "cell_type": "markdown",
   "id": "9ee2a93a",
   "metadata": {},
   "source": [
    "### 합(sum)"
   ]
  },
  {
   "cell_type": "code",
   "execution_count": 102,
   "id": "a3e7f75e",
   "metadata": {
    "scrolled": true
   },
   "outputs": [
    {
     "name": "stdout",
     "output_type": "stream",
     "text": [
      "[[1 2 3]\n",
      " [4 5 6]]\n"
     ]
    }
   ],
   "source": [
    "matrix = np.arange(1,7).reshape(2,3)\n",
    "print(matrix)"
   ]
  },
  {
   "cell_type": "code",
   "execution_count": 103,
   "id": "04392a9e",
   "metadata": {},
   "outputs": [
    {
     "name": "stdout",
     "output_type": "stream",
     "text": [
      "21\n"
     ]
    }
   ],
   "source": [
    "print(matrix.sum())"
   ]
  },
  {
   "cell_type": "code",
   "execution_count": 104,
   "id": "f26ea0a9",
   "metadata": {},
   "outputs": [
    {
     "name": "stdout",
     "output_type": "stream",
     "text": [
      "[5 7 9]\n",
      "[ 6 15]\n"
     ]
    }
   ],
   "source": [
    "print(matrix.sum(axis=0)) # 행끼리 더하기(위아래)\n",
    "print(matrix.sum(axis=1)) # 열끼리 더하기(좌우)"
   ]
  },
  {
   "cell_type": "code",
   "execution_count": 106,
   "id": "905cdc69",
   "metadata": {},
   "outputs": [
    {
     "name": "stdout",
     "output_type": "stream",
     "text": [
      "[[[ 1  2  3]\n",
      "  [ 4  5  6]]\n",
      "\n",
      " [[ 7  8  9]\n",
      "  [10 11 12]]\n",
      "\n",
      " [[13 14 15]\n",
      "  [16 17 18]]]\n",
      "171\n"
     ]
    }
   ],
   "source": [
    "# 3차원 배열의 합\n",
    "tensor = np.arange(1,19).reshape(3,2,3)\n",
    "print(tensor)\n",
    "print(tensor.sum())"
   ]
  },
  {
   "cell_type": "code",
   "execution_count": 111,
   "id": "b6c8b839",
   "metadata": {},
   "outputs": [
    {
     "name": "stdout",
     "output_type": "stream",
     "text": [
      "[[21 24 27]\n",
      " [30 33 36]]\n",
      "[[ 5  7  9]\n",
      " [17 19 21]\n",
      " [29 31 33]]\n",
      "[[ 6 15]\n",
      " [24 33]\n",
      " [42 51]]\n"
     ]
    }
   ],
   "source": [
    "print(tensor.sum(axis=0))\n",
    "print(tensor.sum(axis=1))\n",
    "print(tensor.sum(axis=2))"
   ]
  },
  {
   "cell_type": "markdown",
   "id": "b8dff334",
   "metadata": {},
   "source": [
    "### 평균(mean)"
   ]
  },
  {
   "cell_type": "code",
   "execution_count": 114,
   "id": "ab54791a",
   "metadata": {
    "scrolled": true
   },
   "outputs": [
    {
     "name": "stdout",
     "output_type": "stream",
     "text": [
      "9.5\n",
      "[[ 7.  8.  9.]\n",
      " [10. 11. 12.]]\n",
      "[[ 2.5  3.5  4.5]\n",
      " [ 8.5  9.5 10.5]\n",
      " [14.5 15.5 16.5]]\n",
      "[[ 2.  5.]\n",
      " [ 8. 11.]\n",
      " [14. 17.]]\n"
     ]
    }
   ],
   "source": [
    "print(tensor.mean())  # 전체 평균\n",
    "print(tensor.mean(axis=0))\n",
    "print(tensor.mean(axis=1))\n",
    "print(tensor.mean(axis=2))"
   ]
  },
  {
   "cell_type": "markdown",
   "id": "acccbddf",
   "metadata": {},
   "source": [
    "### 표준편차(std)"
   ]
  },
  {
   "cell_type": "code",
   "execution_count": 118,
   "id": "64260e79",
   "metadata": {
    "scrolled": true
   },
   "outputs": [
    {
     "name": "stdout",
     "output_type": "stream",
     "text": [
      "1.707825127659933\n",
      "[1.5 1.5 1.5]\n",
      "[0.81649658 0.81649658]\n"
     ]
    }
   ],
   "source": [
    "print(matrix.std())\n",
    "print(matrix.std(axis=0))  # 행끼리\n",
    "print(matrix.std(axis=1))  # 열끼리"
   ]
  },
  {
   "cell_type": "markdown",
   "id": "09671b55",
   "metadata": {},
   "source": [
    "### 그 외 수학 연산자\n",
    "- 지수. 로그"
   ]
  },
  {
   "cell_type": "code",
   "execution_count": 119,
   "id": "eb03fcdd",
   "metadata": {},
   "outputs": [
    {
     "name": "stdout",
     "output_type": "stream",
     "text": [
      "[[  2.71828183   7.3890561   20.08553692]\n",
      " [ 54.59815003 148.4131591  403.42879349]]\n"
     ]
    }
   ],
   "source": [
    "# 지수(exp)\n",
    "print(np.exp(matrix))"
   ]
  },
  {
   "cell_type": "code",
   "execution_count": 120,
   "id": "9ae03323",
   "metadata": {},
   "outputs": [
    {
     "name": "stdout",
     "output_type": "stream",
     "text": [
      "[[0.         0.69314718 1.09861229]\n",
      " [1.38629436 1.60943791 1.79175947]]\n"
     ]
    }
   ],
   "source": [
    "# 로그(log)\n",
    "print(np.log(matrix))\n"
   ]
  },
  {
   "cell_type": "code",
   "execution_count": 121,
   "id": "a8b61bfb",
   "metadata": {},
   "outputs": [
    {
     "name": "stdout",
     "output_type": "stream",
     "text": [
      "[[1.         1.41421356 1.73205081]\n",
      " [2.         2.23606798 2.44948974]]\n"
     ]
    }
   ],
   "source": [
    "# 제곱근(sqrt)\n",
    "print(np.sqrt(matrix))"
   ]
  },
  {
   "cell_type": "code",
   "execution_count": 124,
   "id": "5ba02d78",
   "metadata": {},
   "outputs": [
    {
     "name": "stdout",
     "output_type": "stream",
     "text": [
      "[[ 0.84147098  0.90929743  0.14112001]\n",
      " [-0.7568025  -0.95892427 -0.2794155 ]]\n",
      "[[ 0.54030231 -0.41614684 -0.9899925 ]\n",
      " [-0.65364362  0.28366219  0.96017029]]\n",
      "[[ 1.55740772 -2.18503986 -0.14254654]\n",
      " [ 1.15782128 -3.38051501 -0.29100619]]\n"
     ]
    }
   ],
   "source": [
    "# 삼각함수(sin)\n",
    "print(np.sin(matrix))\n",
    "\n",
    "# cos\n",
    "print(np.cos(matrix))\n",
    "\n",
    "# tan\n",
    "print(np.tan(matrix))"
   ]
  },
  {
   "cell_type": "markdown",
   "id": "9d9f2949",
   "metadata": {},
   "source": [
    "### 배열 정렬(Sort)"
   ]
  },
  {
   "cell_type": "code",
   "execution_count": 129,
   "id": "3ee6b290",
   "metadata": {},
   "outputs": [
    {
     "name": "stdout",
     "output_type": "stream",
     "text": [
      "[82 37 82 34 77]\n",
      "[34 37 77 82 82]\n",
      "[82 82 77 37 34]\n"
     ]
    }
   ],
   "source": [
    "# 1차원 배열 정렬\n",
    "vector = np.array([np.random.randint(1,100)\n",
    "                  for n in range(5)])      # 리스트에 담기. for 문 조건에 만족하는 값을 넣음.\n",
    "print(vector)\n",
    "\n",
    "print(np.sort(vector))\n",
    "print(np.sort(vector)[::-1])"
   ]
  },
  {
   "cell_type": "code",
   "execution_count": 131,
   "id": "a0394fcf",
   "metadata": {},
   "outputs": [
    {
     "data": {
      "text/plain": [
       "[3, 3, 3, 3, 3]"
      ]
     },
     "execution_count": 131,
     "metadata": {},
     "output_type": "execute_result"
    }
   ],
   "source": [
    "x = 3\n",
    "[x for i in range(5)]"
   ]
  },
  {
   "cell_type": "code",
   "execution_count": 133,
   "id": "155b5fdd",
   "metadata": {},
   "outputs": [
    {
     "name": "stdout",
     "output_type": "stream",
     "text": [
      "[3, 9, 15, 21, 27]\n"
     ]
    }
   ],
   "source": [
    "list_ = [1,2,3,4,5,6,7,8,9,10]\n",
    "list2_ = [num * 3 for num in list_ if num % 2 == 1]  #나머지가1이 남는 애들을 넣음. 넣어서 3을 곱함.\n",
    "print(list2_)"
   ]
  },
  {
   "cell_type": "code",
   "execution_count": 134,
   "id": "0de56891",
   "metadata": {},
   "outputs": [
    {
     "name": "stdout",
     "output_type": "stream",
     "text": [
      "[[89 70 38 88 45]\n",
      " [19 43 50 51 50]\n",
      " [50 60 55 92 71]\n",
      " [15 91 68 27 31]]\n"
     ]
    }
   ],
   "source": [
    "matrix = np.array([np.random.randint(1,100)\n",
    "                  for n in range(20)]).reshape(4,5)\n",
    "print(matrix)"
   ]
  },
  {
   "cell_type": "code",
   "execution_count": 137,
   "id": "04d7f09d",
   "metadata": {
    "scrolled": true
   },
   "outputs": [
    {
     "name": "stdout",
     "output_type": "stream",
     "text": [
      "[[38 45 70 88 89]\n",
      " [19 43 50 50 51]\n",
      " [50 55 60 71 92]\n",
      " [15 27 31 68 91]]\n",
      "[[15 27 31 68 91]\n",
      " [50 55 60 71 92]\n",
      " [19 43 50 50 51]\n",
      " [38 45 70 88 89]]\n",
      "[[15 43 38 27 31]\n",
      " [19 60 50 51 45]\n",
      " [50 70 55 88 50]\n",
      " [89 91 68 92 71]]\n"
     ]
    }
   ],
   "source": [
    "print(np.sort(matrix))  # 열기준 정렬됨\n",
    "print(np.sort(matrix)[::-1]) # 전체 오름차순\n",
    "print(np.sort(matrix,axis=0)) # 행기준 정렬"
   ]
  },
  {
   "cell_type": "markdown",
   "id": "681976c5",
   "metadata": {},
   "source": [
    "### 배열 합치기(Vstack)"
   ]
  },
  {
   "cell_type": "code",
   "execution_count": 140,
   "id": "27ef55c4",
   "metadata": {},
   "outputs": [
    {
     "name": "stdout",
     "output_type": "stream",
     "text": [
      "[[1 2 3]\n",
      " [4 5 6]]\n"
     ]
    }
   ],
   "source": [
    "vector1 = np.array([1,2,3])\n",
    "vector2 = np.array([4,5,6])\n",
    "print(np.vstack([vector1,vector2]))"
   ]
  },
  {
   "cell_type": "code",
   "execution_count": 141,
   "id": "552194e5",
   "metadata": {},
   "outputs": [
    {
     "name": "stdout",
     "output_type": "stream",
     "text": [
      "[[1]\n",
      " [2]\n",
      " [3]\n",
      " [4]\n",
      " [5]\n",
      " [6]]\n"
     ]
    }
   ],
   "source": [
    "vector1 = np.array([1,2,3]).reshape(3,1)\n",
    "vector2 = np.array([4,5,6]).reshape(3,1)\n",
    "print(np.vstack([vector1,vector2]))"
   ]
  },
  {
   "cell_type": "markdown",
   "id": "7443fc22",
   "metadata": {},
   "source": [
    "### 배열합치기(Concatenate)"
   ]
  },
  {
   "cell_type": "code",
   "execution_count": 144,
   "id": "4e17baef",
   "metadata": {
    "scrolled": false
   },
   "outputs": [
    {
     "name": "stdout",
     "output_type": "stream",
     "text": [
      "[1 2 3 4 5 6]\n"
     ]
    }
   ],
   "source": [
    "vector1 = np.array([1,2,3])\n",
    "vector2 = np.array([4,5,6])\n",
    "print(np.concatenate([vector1,vector2],axis=0))   # axit=1 은 에러"
   ]
  },
  {
   "cell_type": "code",
   "execution_count": 145,
   "id": "09c9babe",
   "metadata": {},
   "outputs": [
    {
     "name": "stdout",
     "output_type": "stream",
     "text": [
      "[[1 4]\n",
      " [2 5]\n",
      " [3 6]]\n"
     ]
    }
   ],
   "source": [
    "vector1 = np.array([1,2,3]).reshape(3,1)\n",
    "vector2 = np.array([4,5,6]).reshape(3,1)\n",
    "print(np.concatenate([vector1,vector2],axis=1))"
   ]
  },
  {
   "cell_type": "code",
   "execution_count": 4,
   "id": "038dd320",
   "metadata": {},
   "outputs": [
    {
     "name": "stdout",
     "output_type": "stream",
     "text": [
      "[[1 2 4]\n",
      " [3 1 5]\n",
      " [2 3 6]]\n"
     ]
    }
   ],
   "source": [
    "matrix1 = np.array([[1,2,3],[1,2,3]]).reshape(3,2)\n",
    "vector2 = np.array([4,5,6]).reshape(3,1)\n",
    "print(np.concatenate([matrix1,vector2],axis=1))"
   ]
  },
  {
   "cell_type": "code",
   "execution_count": 146,
   "id": "9047207b",
   "metadata": {},
   "outputs": [
    {
     "name": "stdout",
     "output_type": "stream",
     "text": [
      "[[1 2]\n",
      " [3 4]\n",
      " [5 6]\n",
      " [7 8]]\n"
     ]
    }
   ],
   "source": [
    "matrix1 = np.arange(1,5).reshape(2,2)\n",
    "matrix2 = np.arange(5,9).reshape(2,2)\n",
    "print(np.concatenate([matrix1,matrix2],axis=0))"
   ]
  },
  {
   "cell_type": "code",
   "execution_count": 148,
   "id": "38d41fb3",
   "metadata": {},
   "outputs": [
    {
     "name": "stdout",
     "output_type": "stream",
     "text": [
      "[[1 2 5 6]\n",
      " [3 4 7 8]]\n"
     ]
    }
   ],
   "source": [
    "matrix1 = np.arange(1,5).reshape(2,2)\n",
    "matrix2 = np.arange(5,9).reshape(2,2)\n",
    "print(np.concatenate([matrix1,matrix2],axis=1))\n"
   ]
  },
  {
   "cell_type": "markdown",
   "id": "89d81723",
   "metadata": {},
   "source": [
    "### 행 / 열 바꾸기(transpose)"
   ]
  },
  {
   "cell_type": "code",
   "execution_count": 150,
   "id": "b6bce9a3",
   "metadata": {},
   "outputs": [
    {
     "name": "stdout",
     "output_type": "stream",
     "text": [
      "[[5 6]]\n"
     ]
    }
   ],
   "source": [
    "matrix3 = np.array([[5,6]])\n",
    "print(matrix3)"
   ]
  },
  {
   "cell_type": "code",
   "execution_count": 152,
   "id": "7646aeff",
   "metadata": {},
   "outputs": [
    {
     "name": "stdout",
     "output_type": "stream",
     "text": [
      "[[5]\n",
      " [6]]\n",
      "[[5]\n",
      " [6]]\n"
     ]
    }
   ],
   "source": [
    "print(matrix3.transpose())\n",
    "print(matrix3.T)"
   ]
  },
  {
   "cell_type": "code",
   "execution_count": 154,
   "id": "abf25729",
   "metadata": {},
   "outputs": [
    {
     "name": "stdout",
     "output_type": "stream",
     "text": [
      "[[1 2]\n",
      " [3 4]\n",
      " [5 6]\n",
      " [7 8]]\n"
     ]
    }
   ],
   "source": [
    "print(np.concatenate([matrix1,matrix2]))"
   ]
  },
  {
   "cell_type": "code",
   "execution_count": 170,
   "id": "632c4e64",
   "metadata": {},
   "outputs": [
    {
     "name": "stdout",
     "output_type": "stream",
     "text": [
      "[[1 2 5]\n",
      " [3 4 6]]\n"
     ]
    }
   ],
   "source": [
    "print(np.concatenate([matrix1, matrix3.T], axis=1))"
   ]
  },
  {
   "cell_type": "markdown",
   "id": "d2593503",
   "metadata": {},
   "source": [
    " ### 인덱스 반환 함수\n",
    " - 최대값, 최소값의 인덱스 argmax, argnim"
   ]
  },
  {
   "cell_type": "code",
   "execution_count": 3,
   "id": "f83ede38",
   "metadata": {
    "scrolled": true
   },
   "outputs": [
    {
     "name": "stdout",
     "output_type": "stream",
     "text": [
      "[[ 1  2  3  4  5]\n",
      " [ 6  7  8  9 10]]\n"
     ]
    }
   ],
   "source": [
    "a = np.arange(1,11).reshape(2,5)\n",
    "print(a)"
   ]
  },
  {
   "cell_type": "code",
   "execution_count": 6,
   "id": "e4a01ce8",
   "metadata": {},
   "outputs": [
    {
     "name": "stdout",
     "output_type": "stream",
     "text": [
      "0 0\n"
     ]
    }
   ],
   "source": [
    "print(np.argmax(1), np.argmin(1))"
   ]
  },
  {
   "cell_type": "code",
   "execution_count": 163,
   "id": "10badc83",
   "metadata": {},
   "outputs": [
    {
     "name": "stdout",
     "output_type": "stream",
     "text": [
      "[1 1 1 1 1]\n"
     ]
    }
   ],
   "source": [
    "print(np.argmax(a,axis=0))"
   ]
  },
  {
   "cell_type": "code",
   "execution_count": 164,
   "id": "6a872f45",
   "metadata": {},
   "outputs": [
    {
     "name": "stdout",
     "output_type": "stream",
     "text": [
      "[[1 2 3 4]\n",
      " [2 3 4 1]\n",
      " [3 4 1 2]]\n"
     ]
    }
   ],
   "source": [
    "b = np.array([[1,2,3,4],[2,3,4,1],[3,4,1,2]])\n",
    "print(b)"
   ]
  },
  {
   "cell_type": "code",
   "execution_count": 169,
   "id": "8a7562a8",
   "metadata": {},
   "outputs": [
    {
     "name": "stdout",
     "output_type": "stream",
     "text": [
      "[3 2 1]\n",
      "[2 2 1 0]\n"
     ]
    }
   ],
   "source": [
    "print(np.argmax(b,axis=1))\n",
    "print(np.argmax(b,axis=0))"
   ]
  },
  {
   "cell_type": "markdown",
   "id": "35e9c199",
   "metadata": {},
   "source": [
    "### 배열 인덱싱(Fancy Index)\n",
    "- 인덱스 값을 가지는 배열을 통해 인덱싱"
   ]
  },
  {
   "cell_type": "code",
   "execution_count": 177,
   "id": "ab1a5f8a",
   "metadata": {},
   "outputs": [
    {
     "name": "stdout",
     "output_type": "stream",
     "text": [
      "[ 1  2  3  4  5  6  7  8  9 10]\n",
      "[3 4 5 6]\n",
      "[4 5 6 7]\n"
     ]
    }
   ],
   "source": [
    "a = np.arange(1,11)\n",
    "b = np.array([3,4,5,6])\n",
    "print(a)\n",
    "print(b)\n",
    "\n",
    "print(a[b])"
   ]
  },
  {
   "cell_type": "code",
   "execution_count": 179,
   "id": "47c8cf78",
   "metadata": {},
   "outputs": [
    {
     "name": "stdout",
     "output_type": "stream",
     "text": [
      "[10 11 12 13 14 15 16 17 18 19]\n",
      "9\n",
      "19\n"
     ]
    }
   ],
   "source": [
    "a = np.arange(10,20)\n",
    "b = np.argmax(a)\n",
    "print(a)\n",
    "print(b)\n",
    "\n",
    "print(a[b])"
   ]
  }
 ],
 "metadata": {
  "interpreter": {
   "hash": "38ae1ba9371524da054e8e3fbefd778d16b5a8ac7937a3f395010f627bb73919"
  },
  "kernelspec": {
   "display_name": "Python 3 (ipykernel)",
   "language": "python",
   "name": "python3"
  },
  "language_info": {
   "codemirror_mode": {
    "name": "ipython",
    "version": 3
   },
   "file_extension": ".py",
   "mimetype": "text/x-python",
   "name": "python",
   "nbconvert_exporter": "python",
   "pygments_lexer": "ipython3",
   "version": "3.9.12"
  }
 },
 "nbformat": 4,
 "nbformat_minor": 5
}
